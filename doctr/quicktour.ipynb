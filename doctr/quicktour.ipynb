{
  "cells": [
    {
      "cell_type": "markdown",
      "metadata": {
        "id": "OOb64_drQ8HZ"
      },
      "source": [
        "Looking for some examples on how to use docTR for OCR-related tasks? You've come to the right place 😀"
      ]
    },
    {
      "cell_type": "markdown",
      "metadata": {
        "id": "0eiwDT8qIh4X"
      },
      "source": [
        "# Installation\n",
        "\n",
        "Install all the dependencies to make the most out of docTR. The project provides two main [installation](https://mindee.github.io/doctr/latest/installing.html) streams: one for stable release, and developer mode."
      ]
    },
    {
      "cell_type": "markdown",
      "metadata": {
        "id": "Bh8uHvOVIvFW"
      },
      "source": [
        "## Latest stable release\n",
        "\n",
        "This will install the last stable release that was published by our teams on pypi. It is expected to provide a clean and non-buggy experience for all users."
      ]
    },
    {
      "cell_type": "code",
      "execution_count": 1,
      "metadata": {
        "id": "43tpfKq1IxQg",
        "outputId": "0fa28050-2207-43ff-c79c-af42d20ca46f",
        "colab": {
          "base_uri": "https://localhost:8080/"
        }
      },
      "outputs": [
        {
          "output_type": "stream",
          "name": "stdout",
          "text": [
            "Collecting python-doctr[viz]\n",
            "  Downloading python_doctr-1.0.0-py3-none-any.whl.metadata (32 kB)\n",
            "Requirement already satisfied: torch<3.0.0,>=2.0.0 in /usr/local/lib/python3.12/dist-packages (from python-doctr[viz]) (2.8.0+cu126)\n",
            "Requirement already satisfied: torchvision>=0.15.0 in /usr/local/lib/python3.12/dist-packages (from python-doctr[viz]) (0.23.0+cu126)\n",
            "Collecting onnx<3.0.0,>=1.12.0 (from python-doctr[viz])\n",
            "  Downloading onnx-1.19.0-cp312-cp312-manylinux2014_x86_64.manylinux_2_17_x86_64.whl.metadata (7.0 kB)\n",
            "Requirement already satisfied: numpy<3.0.0,>=1.16.0 in /usr/local/lib/python3.12/dist-packages (from python-doctr[viz]) (2.0.2)\n",
            "Requirement already satisfied: scipy<2.0.0,>=1.4.0 in /usr/local/lib/python3.12/dist-packages (from python-doctr[viz]) (1.16.1)\n",
            "Requirement already satisfied: h5py<4.0.0,>=3.1.0 in /usr/local/lib/python3.12/dist-packages (from python-doctr[viz]) (3.14.0)\n",
            "Requirement already satisfied: opencv-python<5.0.0,>=4.5.0 in /usr/local/lib/python3.12/dist-packages (from python-doctr[viz]) (4.12.0.88)\n",
            "Collecting pypdfium2<5.0.0,>=4.11.0 (from python-doctr[viz])\n",
            "  Downloading pypdfium2-4.30.0-py3-none-manylinux_2_17_x86_64.manylinux2014_x86_64.whl.metadata (48 kB)\n",
            "\u001b[2K     \u001b[90m━━━━━━━━━━━━━━━━━━━━━━━━━━━━━━━━━━━━━━━━\u001b[0m \u001b[32m48.5/48.5 kB\u001b[0m \u001b[31m2.1 MB/s\u001b[0m eta \u001b[36m0:00:00\u001b[0m\n",
            "\u001b[?25hCollecting pyclipper<2.0.0,>=1.2.0 (from python-doctr[viz])\n",
            "  Downloading pyclipper-1.3.0.post6-cp312-cp312-manylinux_2_17_x86_64.manylinux2014_x86_64.whl.metadata (9.0 kB)\n",
            "Requirement already satisfied: shapely<3.0.0,>=1.6.0 in /usr/local/lib/python3.12/dist-packages (from python-doctr[viz]) (2.1.1)\n",
            "Collecting langdetect<2.0.0,>=1.0.9 (from python-doctr[viz])\n",
            "  Downloading langdetect-1.0.9.tar.gz (981 kB)\n",
            "\u001b[2K     \u001b[90m━━━━━━━━━━━━━━━━━━━━━━━━━━━━━━━━━━━━━━\u001b[0m \u001b[32m981.5/981.5 kB\u001b[0m \u001b[31m20.1 MB/s\u001b[0m eta \u001b[36m0:00:00\u001b[0m\n",
            "\u001b[?25h  Preparing metadata (setup.py) ... \u001b[?25l\u001b[?25hdone\n",
            "Collecting rapidfuzz<4.0.0,>=3.0.0 (from python-doctr[viz])\n",
            "  Downloading rapidfuzz-3.14.1-cp312-cp312-manylinux_2_27_x86_64.manylinux_2_28_x86_64.whl.metadata (12 kB)\n",
            "Requirement already satisfied: huggingface-hub<1.0.0,>=0.20.0 in /usr/local/lib/python3.12/dist-packages (from python-doctr[viz]) (0.34.4)\n",
            "Requirement already satisfied: Pillow>=9.2.0 in /usr/local/lib/python3.12/dist-packages (from python-doctr[viz]) (11.3.0)\n",
            "Requirement already satisfied: defusedxml>=0.7.0 in /usr/local/lib/python3.12/dist-packages (from python-doctr[viz]) (0.7.1)\n",
            "Collecting anyascii>=0.3.2 (from python-doctr[viz])\n",
            "  Downloading anyascii-0.3.3-py3-none-any.whl.metadata (1.6 kB)\n",
            "Collecting validators>=0.18.0 (from python-doctr[viz])\n",
            "  Downloading validators-0.35.0-py3-none-any.whl.metadata (3.9 kB)\n",
            "Requirement already satisfied: tqdm>=4.30.0 in /usr/local/lib/python3.12/dist-packages (from python-doctr[viz]) (4.67.1)\n",
            "Requirement already satisfied: matplotlib>=3.1.0 in /usr/local/lib/python3.12/dist-packages (from python-doctr[viz]) (3.10.0)\n",
            "Collecting mplcursors>=0.3 (from python-doctr[viz])\n",
            "  Downloading mplcursors-0.7-py3-none-any.whl.metadata (2.0 kB)\n",
            "Requirement already satisfied: filelock in /usr/local/lib/python3.12/dist-packages (from huggingface-hub<1.0.0,>=0.20.0->python-doctr[viz]) (3.19.1)\n",
            "Requirement already satisfied: fsspec>=2023.5.0 in /usr/local/lib/python3.12/dist-packages (from huggingface-hub<1.0.0,>=0.20.0->python-doctr[viz]) (2025.3.0)\n",
            "Requirement already satisfied: packaging>=20.9 in /usr/local/lib/python3.12/dist-packages (from huggingface-hub<1.0.0,>=0.20.0->python-doctr[viz]) (25.0)\n",
            "Requirement already satisfied: pyyaml>=5.1 in /usr/local/lib/python3.12/dist-packages (from huggingface-hub<1.0.0,>=0.20.0->python-doctr[viz]) (6.0.2)\n",
            "Requirement already satisfied: requests in /usr/local/lib/python3.12/dist-packages (from huggingface-hub<1.0.0,>=0.20.0->python-doctr[viz]) (2.32.4)\n",
            "Requirement already satisfied: typing-extensions>=3.7.4.3 in /usr/local/lib/python3.12/dist-packages (from huggingface-hub<1.0.0,>=0.20.0->python-doctr[viz]) (4.15.0)\n",
            "Requirement already satisfied: hf-xet<2.0.0,>=1.1.3 in /usr/local/lib/python3.12/dist-packages (from huggingface-hub<1.0.0,>=0.20.0->python-doctr[viz]) (1.1.9)\n",
            "Requirement already satisfied: six in /usr/local/lib/python3.12/dist-packages (from langdetect<2.0.0,>=1.0.9->python-doctr[viz]) (1.17.0)\n",
            "Requirement already satisfied: contourpy>=1.0.1 in /usr/local/lib/python3.12/dist-packages (from matplotlib>=3.1.0->python-doctr[viz]) (1.3.3)\n",
            "Requirement already satisfied: cycler>=0.10 in /usr/local/lib/python3.12/dist-packages (from matplotlib>=3.1.0->python-doctr[viz]) (0.12.1)\n",
            "Requirement already satisfied: fonttools>=4.22.0 in /usr/local/lib/python3.12/dist-packages (from matplotlib>=3.1.0->python-doctr[viz]) (4.59.2)\n",
            "Requirement already satisfied: kiwisolver>=1.3.1 in /usr/local/lib/python3.12/dist-packages (from matplotlib>=3.1.0->python-doctr[viz]) (1.4.9)\n",
            "Requirement already satisfied: pyparsing>=2.3.1 in /usr/local/lib/python3.12/dist-packages (from matplotlib>=3.1.0->python-doctr[viz]) (3.2.3)\n",
            "Requirement already satisfied: python-dateutil>=2.7 in /usr/local/lib/python3.12/dist-packages (from matplotlib>=3.1.0->python-doctr[viz]) (2.9.0.post0)\n",
            "Requirement already satisfied: protobuf>=4.25.1 in /usr/local/lib/python3.12/dist-packages (from onnx<3.0.0,>=1.12.0->python-doctr[viz]) (5.29.5)\n",
            "Requirement already satisfied: ml_dtypes in /usr/local/lib/python3.12/dist-packages (from onnx<3.0.0,>=1.12.0->python-doctr[viz]) (0.5.3)\n",
            "Requirement already satisfied: setuptools in /usr/local/lib/python3.12/dist-packages (from torch<3.0.0,>=2.0.0->python-doctr[viz]) (75.2.0)\n",
            "Requirement already satisfied: sympy>=1.13.3 in /usr/local/lib/python3.12/dist-packages (from torch<3.0.0,>=2.0.0->python-doctr[viz]) (1.13.3)\n",
            "Requirement already satisfied: networkx in /usr/local/lib/python3.12/dist-packages (from torch<3.0.0,>=2.0.0->python-doctr[viz]) (3.5)\n",
            "Requirement already satisfied: jinja2 in /usr/local/lib/python3.12/dist-packages (from torch<3.0.0,>=2.0.0->python-doctr[viz]) (3.1.6)\n",
            "Requirement already satisfied: nvidia-cuda-nvrtc-cu12==12.6.77 in /usr/local/lib/python3.12/dist-packages (from torch<3.0.0,>=2.0.0->python-doctr[viz]) (12.6.77)\n",
            "Requirement already satisfied: nvidia-cuda-runtime-cu12==12.6.77 in /usr/local/lib/python3.12/dist-packages (from torch<3.0.0,>=2.0.0->python-doctr[viz]) (12.6.77)\n",
            "Requirement already satisfied: nvidia-cuda-cupti-cu12==12.6.80 in /usr/local/lib/python3.12/dist-packages (from torch<3.0.0,>=2.0.0->python-doctr[viz]) (12.6.80)\n",
            "Requirement already satisfied: nvidia-cudnn-cu12==9.10.2.21 in /usr/local/lib/python3.12/dist-packages (from torch<3.0.0,>=2.0.0->python-doctr[viz]) (9.10.2.21)\n",
            "Requirement already satisfied: nvidia-cublas-cu12==12.6.4.1 in /usr/local/lib/python3.12/dist-packages (from torch<3.0.0,>=2.0.0->python-doctr[viz]) (12.6.4.1)\n",
            "Requirement already satisfied: nvidia-cufft-cu12==11.3.0.4 in /usr/local/lib/python3.12/dist-packages (from torch<3.0.0,>=2.0.0->python-doctr[viz]) (11.3.0.4)\n",
            "Requirement already satisfied: nvidia-curand-cu12==10.3.7.77 in /usr/local/lib/python3.12/dist-packages (from torch<3.0.0,>=2.0.0->python-doctr[viz]) (10.3.7.77)\n",
            "Requirement already satisfied: nvidia-cusolver-cu12==11.7.1.2 in /usr/local/lib/python3.12/dist-packages (from torch<3.0.0,>=2.0.0->python-doctr[viz]) (11.7.1.2)\n",
            "Requirement already satisfied: nvidia-cusparse-cu12==12.5.4.2 in /usr/local/lib/python3.12/dist-packages (from torch<3.0.0,>=2.0.0->python-doctr[viz]) (12.5.4.2)\n",
            "Requirement already satisfied: nvidia-cusparselt-cu12==0.7.1 in /usr/local/lib/python3.12/dist-packages (from torch<3.0.0,>=2.0.0->python-doctr[viz]) (0.7.1)\n",
            "Requirement already satisfied: nvidia-nccl-cu12==2.27.3 in /usr/local/lib/python3.12/dist-packages (from torch<3.0.0,>=2.0.0->python-doctr[viz]) (2.27.3)\n",
            "Requirement already satisfied: nvidia-nvtx-cu12==12.6.77 in /usr/local/lib/python3.12/dist-packages (from torch<3.0.0,>=2.0.0->python-doctr[viz]) (12.6.77)\n",
            "Requirement already satisfied: nvidia-nvjitlink-cu12==12.6.85 in /usr/local/lib/python3.12/dist-packages (from torch<3.0.0,>=2.0.0->python-doctr[viz]) (12.6.85)\n",
            "Requirement already satisfied: nvidia-cufile-cu12==1.11.1.6 in /usr/local/lib/python3.12/dist-packages (from torch<3.0.0,>=2.0.0->python-doctr[viz]) (1.11.1.6)\n",
            "Requirement already satisfied: triton==3.4.0 in /usr/local/lib/python3.12/dist-packages (from torch<3.0.0,>=2.0.0->python-doctr[viz]) (3.4.0)\n",
            "Requirement already satisfied: mpmath<1.4,>=1.1.0 in /usr/local/lib/python3.12/dist-packages (from sympy>=1.13.3->torch<3.0.0,>=2.0.0->python-doctr[viz]) (1.3.0)\n",
            "Requirement already satisfied: MarkupSafe>=2.0 in /usr/local/lib/python3.12/dist-packages (from jinja2->torch<3.0.0,>=2.0.0->python-doctr[viz]) (3.0.2)\n",
            "Requirement already satisfied: charset_normalizer<4,>=2 in /usr/local/lib/python3.12/dist-packages (from requests->huggingface-hub<1.0.0,>=0.20.0->python-doctr[viz]) (3.4.3)\n",
            "Requirement already satisfied: idna<4,>=2.5 in /usr/local/lib/python3.12/dist-packages (from requests->huggingface-hub<1.0.0,>=0.20.0->python-doctr[viz]) (3.10)\n",
            "Requirement already satisfied: urllib3<3,>=1.21.1 in /usr/local/lib/python3.12/dist-packages (from requests->huggingface-hub<1.0.0,>=0.20.0->python-doctr[viz]) (2.5.0)\n",
            "Requirement already satisfied: certifi>=2017.4.17 in /usr/local/lib/python3.12/dist-packages (from requests->huggingface-hub<1.0.0,>=0.20.0->python-doctr[viz]) (2025.8.3)\n",
            "Downloading anyascii-0.3.3-py3-none-any.whl (345 kB)\n",
            "\u001b[2K   \u001b[90m━━━━━━━━━━━━━━━━━━━━━━━━━━━━━━━━━━━━━━━━\u001b[0m \u001b[32m345.1/345.1 kB\u001b[0m \u001b[31m17.5 MB/s\u001b[0m eta \u001b[36m0:00:00\u001b[0m\n",
            "\u001b[?25hDownloading mplcursors-0.7-py3-none-any.whl (20 kB)\n",
            "Downloading onnx-1.19.0-cp312-cp312-manylinux2014_x86_64.manylinux_2_17_x86_64.whl (18.2 MB)\n",
            "\u001b[2K   \u001b[90m━━━━━━━━━━━━━━━━━━━━━━━━━━━━━━━━━━━━━━━━\u001b[0m \u001b[32m18.2/18.2 MB\u001b[0m \u001b[31m60.4 MB/s\u001b[0m eta \u001b[36m0:00:00\u001b[0m\n",
            "\u001b[?25hDownloading pyclipper-1.3.0.post6-cp312-cp312-manylinux_2_17_x86_64.manylinux2014_x86_64.whl (963 kB)\n",
            "\u001b[2K   \u001b[90m━━━━━━━━━━━━━━━━━━━━━━━━━━━━━━━━━━━━━━━━\u001b[0m \u001b[32m963.8/963.8 kB\u001b[0m \u001b[31m41.7 MB/s\u001b[0m eta \u001b[36m0:00:00\u001b[0m\n",
            "\u001b[?25hDownloading pypdfium2-4.30.0-py3-none-manylinux_2_17_x86_64.manylinux2014_x86_64.whl (2.8 MB)\n",
            "\u001b[2K   \u001b[90m━━━━━━━━━━━━━━━━━━━━━━━━━━━━━━━━━━━━━━━━\u001b[0m \u001b[32m2.8/2.8 MB\u001b[0m \u001b[31m60.3 MB/s\u001b[0m eta \u001b[36m0:00:00\u001b[0m\n",
            "\u001b[?25hDownloading rapidfuzz-3.14.1-cp312-cp312-manylinux_2_27_x86_64.manylinux_2_28_x86_64.whl (3.2 MB)\n",
            "\u001b[2K   \u001b[90m━━━━━━━━━━━━━━━━━━━━━━━━━━━━━━━━━━━━━━━━\u001b[0m \u001b[32m3.2/3.2 MB\u001b[0m \u001b[31m66.5 MB/s\u001b[0m eta \u001b[36m0:00:00\u001b[0m\n",
            "\u001b[?25hDownloading validators-0.35.0-py3-none-any.whl (44 kB)\n",
            "\u001b[2K   \u001b[90m━━━━━━━━━━━━━━━━━━━━━━━━━━━━━━━━━━━━━━━━\u001b[0m \u001b[32m44.7/44.7 kB\u001b[0m \u001b[31m3.0 MB/s\u001b[0m eta \u001b[36m0:00:00\u001b[0m\n",
            "\u001b[?25hDownloading python_doctr-1.0.0-py3-none-any.whl (288 kB)\n",
            "\u001b[2K   \u001b[90m━━━━━━━━━━━━━━━━━━━━━━━━━━━━━━━━━━━━━━━━\u001b[0m \u001b[32m288.4/288.4 kB\u001b[0m \u001b[31m19.0 MB/s\u001b[0m eta \u001b[36m0:00:00\u001b[0m\n",
            "\u001b[?25hBuilding wheels for collected packages: langdetect\n",
            "  Building wheel for langdetect (setup.py) ... \u001b[?25l\u001b[?25hdone\n",
            "  Created wheel for langdetect: filename=langdetect-1.0.9-py3-none-any.whl size=993223 sha256=72d4d589eca5ffec68c406946beba2546f834c18f284453b8844e7c74006ff73\n",
            "  Stored in directory: /root/.cache/pip/wheels/c1/67/88/e844b5b022812e15a52e4eaa38a1e709e99f06f6639d7e3ba7\n",
            "Successfully built langdetect\n",
            "Installing collected packages: pyclipper, validators, rapidfuzz, pypdfium2, langdetect, anyascii, onnx, mplcursors, python-doctr\n",
            "Successfully installed anyascii-0.3.3 langdetect-1.0.9 mplcursors-0.7 onnx-1.19.0 pyclipper-1.3.0.post6 pypdfium2-4.30.0 python-doctr-1.0.0 rapidfuzz-3.14.1 validators-0.35.0\n"
          ]
        }
      ],
      "source": [
        "# Install docTR\n",
        "!pip install python-doctr[viz]"
      ]
    },
    {
      "cell_type": "markdown",
      "metadata": {
        "id": "zUbhZiRiIxbN"
      },
      "source": [
        "## From source\n",
        "\n",
        "Before being staged for a stable release, we constantly iterate on the community feedback to improve the library. Bug fixes and performance improvements are regularly pushed to the project Git repository. Using this installation method, you will access all the latest features that have not yet made their way to a pypi release!"
      ]
    },
    {
      "cell_type": "code",
      "execution_count": 2,
      "metadata": {
        "id": "AJZgLM_CIzKf",
        "outputId": "350704ab-82d7-430a-867f-efe401f6286d",
        "colab": {
          "base_uri": "https://localhost:8080/"
        }
      },
      "outputs": [
        {
          "output_type": "stream",
          "name": "stdout",
          "text": [
            "Collecting python-doctr@ git+https://github.com/mindee/doctr.git (from python-doctr[viz]@ git+https://github.com/mindee/doctr.git)\n",
            "  Cloning https://github.com/mindee/doctr.git to /tmp/pip-install-pmx65h8i/python-doctr_656d9804408b42059d194011e47f01de\n",
            "  Running command git clone --filter=blob:none --quiet https://github.com/mindee/doctr.git /tmp/pip-install-pmx65h8i/python-doctr_656d9804408b42059d194011e47f01de\n",
            "  Resolved https://github.com/mindee/doctr.git to commit 07443a04502d3ef7bd4bf4f067305399a090fe29\n",
            "  Installing build dependencies ... \u001b[?25l\u001b[?25hdone\n",
            "  Getting requirements to build wheel ... \u001b[?25l\u001b[?25hdone\n",
            "  Preparing metadata (pyproject.toml) ... \u001b[?25l\u001b[?25hdone\n",
            "Requirement already satisfied: torch<3.0.0,>=2.0.0 in /usr/local/lib/python3.12/dist-packages (from python-doctr@ git+https://github.com/mindee/doctr.git->python-doctr[viz]@ git+https://github.com/mindee/doctr.git) (2.8.0+cu126)\n",
            "Requirement already satisfied: torchvision>=0.15.0 in /usr/local/lib/python3.12/dist-packages (from python-doctr@ git+https://github.com/mindee/doctr.git->python-doctr[viz]@ git+https://github.com/mindee/doctr.git) (0.23.0+cu126)\n",
            "Requirement already satisfied: onnx<3.0.0,>=1.12.0 in /usr/local/lib/python3.12/dist-packages (from python-doctr@ git+https://github.com/mindee/doctr.git->python-doctr[viz]@ git+https://github.com/mindee/doctr.git) (1.19.0)\n",
            "Requirement already satisfied: numpy<3.0.0,>=1.16.0 in /usr/local/lib/python3.12/dist-packages (from python-doctr@ git+https://github.com/mindee/doctr.git->python-doctr[viz]@ git+https://github.com/mindee/doctr.git) (2.0.2)\n",
            "Requirement already satisfied: scipy<2.0.0,>=1.4.0 in /usr/local/lib/python3.12/dist-packages (from python-doctr@ git+https://github.com/mindee/doctr.git->python-doctr[viz]@ git+https://github.com/mindee/doctr.git) (1.16.1)\n",
            "Requirement already satisfied: h5py<4.0.0,>=3.1.0 in /usr/local/lib/python3.12/dist-packages (from python-doctr@ git+https://github.com/mindee/doctr.git->python-doctr[viz]@ git+https://github.com/mindee/doctr.git) (3.14.0)\n",
            "Requirement already satisfied: opencv-python<5.0.0,>=4.5.0 in /usr/local/lib/python3.12/dist-packages (from python-doctr@ git+https://github.com/mindee/doctr.git->python-doctr[viz]@ git+https://github.com/mindee/doctr.git) (4.12.0.88)\n",
            "Requirement already satisfied: pypdfium2<5.0.0,>=4.11.0 in /usr/local/lib/python3.12/dist-packages (from python-doctr@ git+https://github.com/mindee/doctr.git->python-doctr[viz]@ git+https://github.com/mindee/doctr.git) (4.30.0)\n",
            "Requirement already satisfied: pyclipper<2.0.0,>=1.2.0 in /usr/local/lib/python3.12/dist-packages (from python-doctr@ git+https://github.com/mindee/doctr.git->python-doctr[viz]@ git+https://github.com/mindee/doctr.git) (1.3.0.post6)\n",
            "Requirement already satisfied: shapely<3.0.0,>=1.6.0 in /usr/local/lib/python3.12/dist-packages (from python-doctr@ git+https://github.com/mindee/doctr.git->python-doctr[viz]@ git+https://github.com/mindee/doctr.git) (2.1.1)\n",
            "Requirement already satisfied: langdetect<2.0.0,>=1.0.9 in /usr/local/lib/python3.12/dist-packages (from python-doctr@ git+https://github.com/mindee/doctr.git->python-doctr[viz]@ git+https://github.com/mindee/doctr.git) (1.0.9)\n",
            "Requirement already satisfied: rapidfuzz<4.0.0,>=3.0.0 in /usr/local/lib/python3.12/dist-packages (from python-doctr@ git+https://github.com/mindee/doctr.git->python-doctr[viz]@ git+https://github.com/mindee/doctr.git) (3.14.1)\n",
            "Requirement already satisfied: huggingface-hub<1.0.0,>=0.20.0 in /usr/local/lib/python3.12/dist-packages (from python-doctr@ git+https://github.com/mindee/doctr.git->python-doctr[viz]@ git+https://github.com/mindee/doctr.git) (0.34.4)\n",
            "Requirement already satisfied: Pillow>=9.2.0 in /usr/local/lib/python3.12/dist-packages (from python-doctr@ git+https://github.com/mindee/doctr.git->python-doctr[viz]@ git+https://github.com/mindee/doctr.git) (11.3.0)\n",
            "Requirement already satisfied: defusedxml>=0.7.0 in /usr/local/lib/python3.12/dist-packages (from python-doctr@ git+https://github.com/mindee/doctr.git->python-doctr[viz]@ git+https://github.com/mindee/doctr.git) (0.7.1)\n",
            "Requirement already satisfied: anyascii>=0.3.2 in /usr/local/lib/python3.12/dist-packages (from python-doctr@ git+https://github.com/mindee/doctr.git->python-doctr[viz]@ git+https://github.com/mindee/doctr.git) (0.3.3)\n",
            "Requirement already satisfied: validators>=0.18.0 in /usr/local/lib/python3.12/dist-packages (from python-doctr@ git+https://github.com/mindee/doctr.git->python-doctr[viz]@ git+https://github.com/mindee/doctr.git) (0.35.0)\n",
            "Requirement already satisfied: tqdm>=4.30.0 in /usr/local/lib/python3.12/dist-packages (from python-doctr@ git+https://github.com/mindee/doctr.git->python-doctr[viz]@ git+https://github.com/mindee/doctr.git) (4.67.1)\n",
            "Requirement already satisfied: matplotlib>=3.1.0 in /usr/local/lib/python3.12/dist-packages (from python-doctr@ git+https://github.com/mindee/doctr.git->python-doctr[viz]@ git+https://github.com/mindee/doctr.git) (3.10.0)\n",
            "Requirement already satisfied: mplcursors>=0.3 in /usr/local/lib/python3.12/dist-packages (from python-doctr@ git+https://github.com/mindee/doctr.git->python-doctr[viz]@ git+https://github.com/mindee/doctr.git) (0.7)\n",
            "Requirement already satisfied: filelock in /usr/local/lib/python3.12/dist-packages (from huggingface-hub<1.0.0,>=0.20.0->python-doctr@ git+https://github.com/mindee/doctr.git->python-doctr[viz]@ git+https://github.com/mindee/doctr.git) (3.19.1)\n",
            "Requirement already satisfied: fsspec>=2023.5.0 in /usr/local/lib/python3.12/dist-packages (from huggingface-hub<1.0.0,>=0.20.0->python-doctr@ git+https://github.com/mindee/doctr.git->python-doctr[viz]@ git+https://github.com/mindee/doctr.git) (2025.3.0)\n",
            "Requirement already satisfied: packaging>=20.9 in /usr/local/lib/python3.12/dist-packages (from huggingface-hub<1.0.0,>=0.20.0->python-doctr@ git+https://github.com/mindee/doctr.git->python-doctr[viz]@ git+https://github.com/mindee/doctr.git) (25.0)\n",
            "Requirement already satisfied: pyyaml>=5.1 in /usr/local/lib/python3.12/dist-packages (from huggingface-hub<1.0.0,>=0.20.0->python-doctr@ git+https://github.com/mindee/doctr.git->python-doctr[viz]@ git+https://github.com/mindee/doctr.git) (6.0.2)\n",
            "Requirement already satisfied: requests in /usr/local/lib/python3.12/dist-packages (from huggingface-hub<1.0.0,>=0.20.0->python-doctr@ git+https://github.com/mindee/doctr.git->python-doctr[viz]@ git+https://github.com/mindee/doctr.git) (2.32.4)\n",
            "Requirement already satisfied: typing-extensions>=3.7.4.3 in /usr/local/lib/python3.12/dist-packages (from huggingface-hub<1.0.0,>=0.20.0->python-doctr@ git+https://github.com/mindee/doctr.git->python-doctr[viz]@ git+https://github.com/mindee/doctr.git) (4.15.0)\n",
            "Requirement already satisfied: hf-xet<2.0.0,>=1.1.3 in /usr/local/lib/python3.12/dist-packages (from huggingface-hub<1.0.0,>=0.20.0->python-doctr@ git+https://github.com/mindee/doctr.git->python-doctr[viz]@ git+https://github.com/mindee/doctr.git) (1.1.9)\n",
            "Requirement already satisfied: six in /usr/local/lib/python3.12/dist-packages (from langdetect<2.0.0,>=1.0.9->python-doctr@ git+https://github.com/mindee/doctr.git->python-doctr[viz]@ git+https://github.com/mindee/doctr.git) (1.17.0)\n",
            "Requirement already satisfied: contourpy>=1.0.1 in /usr/local/lib/python3.12/dist-packages (from matplotlib>=3.1.0->python-doctr@ git+https://github.com/mindee/doctr.git->python-doctr[viz]@ git+https://github.com/mindee/doctr.git) (1.3.3)\n",
            "Requirement already satisfied: cycler>=0.10 in /usr/local/lib/python3.12/dist-packages (from matplotlib>=3.1.0->python-doctr@ git+https://github.com/mindee/doctr.git->python-doctr[viz]@ git+https://github.com/mindee/doctr.git) (0.12.1)\n",
            "Requirement already satisfied: fonttools>=4.22.0 in /usr/local/lib/python3.12/dist-packages (from matplotlib>=3.1.0->python-doctr@ git+https://github.com/mindee/doctr.git->python-doctr[viz]@ git+https://github.com/mindee/doctr.git) (4.59.2)\n",
            "Requirement already satisfied: kiwisolver>=1.3.1 in /usr/local/lib/python3.12/dist-packages (from matplotlib>=3.1.0->python-doctr@ git+https://github.com/mindee/doctr.git->python-doctr[viz]@ git+https://github.com/mindee/doctr.git) (1.4.9)\n",
            "Requirement already satisfied: pyparsing>=2.3.1 in /usr/local/lib/python3.12/dist-packages (from matplotlib>=3.1.0->python-doctr@ git+https://github.com/mindee/doctr.git->python-doctr[viz]@ git+https://github.com/mindee/doctr.git) (3.2.3)\n",
            "Requirement already satisfied: python-dateutil>=2.7 in /usr/local/lib/python3.12/dist-packages (from matplotlib>=3.1.0->python-doctr@ git+https://github.com/mindee/doctr.git->python-doctr[viz]@ git+https://github.com/mindee/doctr.git) (2.9.0.post0)\n",
            "Requirement already satisfied: protobuf>=4.25.1 in /usr/local/lib/python3.12/dist-packages (from onnx<3.0.0,>=1.12.0->python-doctr@ git+https://github.com/mindee/doctr.git->python-doctr[viz]@ git+https://github.com/mindee/doctr.git) (5.29.5)\n",
            "Requirement already satisfied: ml_dtypes in /usr/local/lib/python3.12/dist-packages (from onnx<3.0.0,>=1.12.0->python-doctr@ git+https://github.com/mindee/doctr.git->python-doctr[viz]@ git+https://github.com/mindee/doctr.git) (0.5.3)\n",
            "Requirement already satisfied: setuptools in /usr/local/lib/python3.12/dist-packages (from torch<3.0.0,>=2.0.0->python-doctr@ git+https://github.com/mindee/doctr.git->python-doctr[viz]@ git+https://github.com/mindee/doctr.git) (75.2.0)\n",
            "Requirement already satisfied: sympy>=1.13.3 in /usr/local/lib/python3.12/dist-packages (from torch<3.0.0,>=2.0.0->python-doctr@ git+https://github.com/mindee/doctr.git->python-doctr[viz]@ git+https://github.com/mindee/doctr.git) (1.13.3)\n",
            "Requirement already satisfied: networkx in /usr/local/lib/python3.12/dist-packages (from torch<3.0.0,>=2.0.0->python-doctr@ git+https://github.com/mindee/doctr.git->python-doctr[viz]@ git+https://github.com/mindee/doctr.git) (3.5)\n",
            "Requirement already satisfied: jinja2 in /usr/local/lib/python3.12/dist-packages (from torch<3.0.0,>=2.0.0->python-doctr@ git+https://github.com/mindee/doctr.git->python-doctr[viz]@ git+https://github.com/mindee/doctr.git) (3.1.6)\n",
            "Requirement already satisfied: nvidia-cuda-nvrtc-cu12==12.6.77 in /usr/local/lib/python3.12/dist-packages (from torch<3.0.0,>=2.0.0->python-doctr@ git+https://github.com/mindee/doctr.git->python-doctr[viz]@ git+https://github.com/mindee/doctr.git) (12.6.77)\n",
            "Requirement already satisfied: nvidia-cuda-runtime-cu12==12.6.77 in /usr/local/lib/python3.12/dist-packages (from torch<3.0.0,>=2.0.0->python-doctr@ git+https://github.com/mindee/doctr.git->python-doctr[viz]@ git+https://github.com/mindee/doctr.git) (12.6.77)\n",
            "Requirement already satisfied: nvidia-cuda-cupti-cu12==12.6.80 in /usr/local/lib/python3.12/dist-packages (from torch<3.0.0,>=2.0.0->python-doctr@ git+https://github.com/mindee/doctr.git->python-doctr[viz]@ git+https://github.com/mindee/doctr.git) (12.6.80)\n",
            "Requirement already satisfied: nvidia-cudnn-cu12==9.10.2.21 in /usr/local/lib/python3.12/dist-packages (from torch<3.0.0,>=2.0.0->python-doctr@ git+https://github.com/mindee/doctr.git->python-doctr[viz]@ git+https://github.com/mindee/doctr.git) (9.10.2.21)\n",
            "Requirement already satisfied: nvidia-cublas-cu12==12.6.4.1 in /usr/local/lib/python3.12/dist-packages (from torch<3.0.0,>=2.0.0->python-doctr@ git+https://github.com/mindee/doctr.git->python-doctr[viz]@ git+https://github.com/mindee/doctr.git) (12.6.4.1)\n",
            "Requirement already satisfied: nvidia-cufft-cu12==11.3.0.4 in /usr/local/lib/python3.12/dist-packages (from torch<3.0.0,>=2.0.0->python-doctr@ git+https://github.com/mindee/doctr.git->python-doctr[viz]@ git+https://github.com/mindee/doctr.git) (11.3.0.4)\n",
            "Requirement already satisfied: nvidia-curand-cu12==10.3.7.77 in /usr/local/lib/python3.12/dist-packages (from torch<3.0.0,>=2.0.0->python-doctr@ git+https://github.com/mindee/doctr.git->python-doctr[viz]@ git+https://github.com/mindee/doctr.git) (10.3.7.77)\n",
            "Requirement already satisfied: nvidia-cusolver-cu12==11.7.1.2 in /usr/local/lib/python3.12/dist-packages (from torch<3.0.0,>=2.0.0->python-doctr@ git+https://github.com/mindee/doctr.git->python-doctr[viz]@ git+https://github.com/mindee/doctr.git) (11.7.1.2)\n",
            "Requirement already satisfied: nvidia-cusparse-cu12==12.5.4.2 in /usr/local/lib/python3.12/dist-packages (from torch<3.0.0,>=2.0.0->python-doctr@ git+https://github.com/mindee/doctr.git->python-doctr[viz]@ git+https://github.com/mindee/doctr.git) (12.5.4.2)\n",
            "Requirement already satisfied: nvidia-cusparselt-cu12==0.7.1 in /usr/local/lib/python3.12/dist-packages (from torch<3.0.0,>=2.0.0->python-doctr@ git+https://github.com/mindee/doctr.git->python-doctr[viz]@ git+https://github.com/mindee/doctr.git) (0.7.1)\n",
            "Requirement already satisfied: nvidia-nccl-cu12==2.27.3 in /usr/local/lib/python3.12/dist-packages (from torch<3.0.0,>=2.0.0->python-doctr@ git+https://github.com/mindee/doctr.git->python-doctr[viz]@ git+https://github.com/mindee/doctr.git) (2.27.3)\n",
            "Requirement already satisfied: nvidia-nvtx-cu12==12.6.77 in /usr/local/lib/python3.12/dist-packages (from torch<3.0.0,>=2.0.0->python-doctr@ git+https://github.com/mindee/doctr.git->python-doctr[viz]@ git+https://github.com/mindee/doctr.git) (12.6.77)\n",
            "Requirement already satisfied: nvidia-nvjitlink-cu12==12.6.85 in /usr/local/lib/python3.12/dist-packages (from torch<3.0.0,>=2.0.0->python-doctr@ git+https://github.com/mindee/doctr.git->python-doctr[viz]@ git+https://github.com/mindee/doctr.git) (12.6.85)\n",
            "Requirement already satisfied: nvidia-cufile-cu12==1.11.1.6 in /usr/local/lib/python3.12/dist-packages (from torch<3.0.0,>=2.0.0->python-doctr@ git+https://github.com/mindee/doctr.git->python-doctr[viz]@ git+https://github.com/mindee/doctr.git) (1.11.1.6)\n",
            "Requirement already satisfied: triton==3.4.0 in /usr/local/lib/python3.12/dist-packages (from torch<3.0.0,>=2.0.0->python-doctr@ git+https://github.com/mindee/doctr.git->python-doctr[viz]@ git+https://github.com/mindee/doctr.git) (3.4.0)\n",
            "Requirement already satisfied: mpmath<1.4,>=1.1.0 in /usr/local/lib/python3.12/dist-packages (from sympy>=1.13.3->torch<3.0.0,>=2.0.0->python-doctr@ git+https://github.com/mindee/doctr.git->python-doctr[viz]@ git+https://github.com/mindee/doctr.git) (1.3.0)\n",
            "Requirement already satisfied: MarkupSafe>=2.0 in /usr/local/lib/python3.12/dist-packages (from jinja2->torch<3.0.0,>=2.0.0->python-doctr@ git+https://github.com/mindee/doctr.git->python-doctr[viz]@ git+https://github.com/mindee/doctr.git) (3.0.2)\n",
            "Requirement already satisfied: charset_normalizer<4,>=2 in /usr/local/lib/python3.12/dist-packages (from requests->huggingface-hub<1.0.0,>=0.20.0->python-doctr@ git+https://github.com/mindee/doctr.git->python-doctr[viz]@ git+https://github.com/mindee/doctr.git) (3.4.3)\n",
            "Requirement already satisfied: idna<4,>=2.5 in /usr/local/lib/python3.12/dist-packages (from requests->huggingface-hub<1.0.0,>=0.20.0->python-doctr@ git+https://github.com/mindee/doctr.git->python-doctr[viz]@ git+https://github.com/mindee/doctr.git) (3.10)\n",
            "Requirement already satisfied: urllib3<3,>=1.21.1 in /usr/local/lib/python3.12/dist-packages (from requests->huggingface-hub<1.0.0,>=0.20.0->python-doctr@ git+https://github.com/mindee/doctr.git->python-doctr[viz]@ git+https://github.com/mindee/doctr.git) (2.5.0)\n",
            "Requirement already satisfied: certifi>=2017.4.17 in /usr/local/lib/python3.12/dist-packages (from requests->huggingface-hub<1.0.0,>=0.20.0->python-doctr@ git+https://github.com/mindee/doctr.git->python-doctr[viz]@ git+https://github.com/mindee/doctr.git) (2025.8.3)\n",
            "Building wheels for collected packages: python-doctr\n",
            "  Building wheel for python-doctr (pyproject.toml) ... \u001b[?25l\u001b[?25hdone\n",
            "  Created wheel for python-doctr: filename=python_doctr-1.0.1a0-py3-none-any.whl size=288381 sha256=b5ac86583edf7dd69c72c4f4d3eb59acd4b7c1f95da5b974f342366f19c20064\n",
            "  Stored in directory: /tmp/pip-ephem-wheel-cache-oa_3ap52/wheels/09/8f/b1/932941686bac5487a8d999968079d850858d0e58a880430a7b\n",
            "Successfully built python-doctr\n",
            "Installing collected packages: python-doctr\n",
            "  Attempting uninstall: python-doctr\n",
            "    Found existing installation: python-doctr 1.0.0\n",
            "    Uninstalling python-doctr-1.0.0:\n",
            "      Successfully uninstalled python-doctr-1.0.0\n",
            "Successfully installed python-doctr-1.0.1a0\n"
          ]
        }
      ],
      "source": [
        "# Install the most up-to-date version from GitHub\n",
        "!pip install python-doctr[viz]@git+https://github.com/mindee/doctr.git"
      ]
    },
    {
      "cell_type": "markdown",
      "metadata": {
        "id": "r2mgRuCaJY4F"
      },
      "source": [
        "# Basic usage\n",
        "\n",
        "We're going to review the main features of docTR 🎁\n",
        "And for you to have a proper overview of its capabilities, we will need some free fonts for a proper output visualization:"
      ]
    },
    {
      "cell_type": "code",
      "execution_count": 3,
      "metadata": {
        "id": "2Qhrp88TPDZi",
        "outputId": "ccb075e4-1155-4906-c74a-5d7066526ac6",
        "colab": {
          "base_uri": "https://localhost:8080/"
        }
      },
      "outputs": [
        {
          "output_type": "stream",
          "name": "stdout",
          "text": [
            "Reading package lists... Done\n",
            "Building dependency tree... Done\n",
            "Reading state information... Done\n",
            "The following NEW packages will be installed:\n",
            "  fonts-freefont-ttf\n",
            "0 upgraded, 1 newly installed, 0 to remove and 35 not upgraded.\n",
            "Need to get 2,388 kB of archives.\n",
            "After this operation, 6,653 kB of additional disk space will be used.\n",
            "Get:1 http://archive.ubuntu.com/ubuntu jammy/main amd64 fonts-freefont-ttf all 20120503-10build1 [2,388 kB]\n",
            "Fetched 2,388 kB in 0s (7,092 kB/s)\n",
            "debconf: unable to initialize frontend: Dialog\n",
            "debconf: (No usable dialog-like program is installed, so the dialog based frontend cannot be used. at /usr/share/perl5/Debconf/FrontEnd/Dialog.pm line 78, <> line 1.)\n",
            "debconf: falling back to frontend: Readline\n",
            "debconf: unable to initialize frontend: Readline\n",
            "debconf: (This frontend requires a controlling tty.)\n",
            "debconf: falling back to frontend: Teletype\n",
            "dpkg-preconfigure: unable to re-open stdin: \n",
            "Selecting previously unselected package fonts-freefont-ttf.\n",
            "(Reading database ... 126435 files and directories currently installed.)\n",
            "Preparing to unpack .../fonts-freefont-ttf_20120503-10build1_all.deb ...\n",
            "Unpacking fonts-freefont-ttf (20120503-10build1) ...\n",
            "Setting up fonts-freefont-ttf (20120503-10build1) ...\n",
            "Processing triggers for fontconfig (2.13.1-4.2ubuntu5) ...\n"
          ]
        }
      ],
      "source": [
        "# Install some free fonts for result rendering\n",
        "!sudo apt-get install fonts-freefont-ttf -y"
      ]
    },
    {
      "cell_type": "markdown",
      "metadata": {
        "id": "Fe7KuocKSWX9"
      },
      "source": [
        "Let's take care of all the imports directly"
      ]
    },
    {
      "cell_type": "code",
      "execution_count": 4,
      "metadata": {
        "id": "xSoeo0hRJbnU"
      },
      "outputs": [],
      "source": [
        "%matplotlib inline\n",
        "import matplotlib.pyplot as plt\n",
        "\n",
        "from doctr.io import DocumentFile\n",
        "from doctr.models import ocr_predictor"
      ]
    },
    {
      "cell_type": "markdown",
      "metadata": {
        "id": "7wwEmHqZSaLF"
      },
      "source": [
        "For the next steps, we will need a proper PDF document that will be used to showcase the library features"
      ]
    },
    {
      "cell_type": "code",
      "execution_count": 5,
      "metadata": {
        "id": "UIBwFsVuJocy",
        "outputId": "cfcd27ee-7186-4a87-ecc4-7a7656400258",
        "colab": {
          "base_uri": "https://localhost:8080/"
        }
      },
      "outputs": [
        {
          "output_type": "stream",
          "name": "stdout",
          "text": [
            "--2025-09-22 06:27:18--  https://eforms.com/download/2019/01/Cash-Payment-Receipt-Template.pdf\n",
            "Resolving eforms.com (eforms.com)... 104.26.1.24, 172.67.73.188, 104.26.0.24, ...\n",
            "Connecting to eforms.com (eforms.com)|104.26.1.24|:443... connected.\n",
            "HTTP request sent, awaiting response... 200 OK\n",
            "Length: 16080 (16K) [application/pdf]\n",
            "Saving to: ‘Cash-Payment-Receipt-Template.pdf’\n",
            "\n",
            "\r          Cash-Paym   0%[                    ]       0  --.-KB/s               \rCash-Payment-Receip 100%[===================>]  15.70K  --.-KB/s    in 0s      \n",
            "\n",
            "2025-09-22 06:27:18 (104 MB/s) - ‘Cash-Payment-Receipt-Template.pdf’ saved [16080/16080]\n",
            "\n",
            "Number of pages: 1\n"
          ]
        }
      ],
      "source": [
        "# Download a sample\n",
        "!wget https://eforms.com/download/2019/01/Cash-Payment-Receipt-Template.pdf\n",
        "# Read the file\n",
        "doc = DocumentFile.from_pdf(\"Cash-Payment-Receipt-Template.pdf\")\n",
        "print(f\"Number of pages: {len(doc)}\")"
      ]
    },
    {
      "cell_type": "markdown",
      "metadata": {
        "id": "cM6PPiWpSmb0"
      },
      "source": [
        "docTR is, under the hood, running Deep Learning models to perform the different tasks it supports. Those models were built and trained with very popular frameworks for maximum compatibility (you will be pleased to know that you can switch from [PyTorch](https://pytorch.org/) to [TensorFlow](https://www.tensorflow.org/) without noticing any difference for you). By default, our high-level API sets the best default values so that you get high performing models without having to know anything about it. All of this is wrapper in a `Predictor` object, which will take care of pre-processing, model inference and post-processing for you ⚡\n",
        "\n",
        "Let's instantiate one!"
      ]
    },
    {
      "cell_type": "code",
      "execution_count": 6,
      "metadata": {
        "id": "WAoUcVQbKIfT",
        "outputId": "df5eed95-2748-445a-d191-248d11d4a636",
        "colab": {
          "base_uri": "https://localhost:8080/",
          "height": 118,
          "referenced_widgets": [
            "f27db58be61641ac9710b97e4584f48f",
            "90a37f3fbaa242a3965b94ddf5f04568",
            "799078a8d16544b196bdbc640415bbbd",
            "962383107a20445b91155f86e4667cb0",
            "6e2cb5d6cacd44068790d2ec29b43009",
            "4bcca6b7798a45bcb11e4690aae1eeeb",
            "897771a5b2e24fd9a97972b29d08f933",
            "886c979107ec40b4bb14d916ea53f754",
            "667f9d9eb65944c29348f8406633fc8d",
            "5eb3b2d6ad88468fa1970ad7c7628822",
            "452a74d91ecb4556af166fa80de8d91c",
            "0c74e59c98c540d1a7beb486d7f6f048",
            "6faafa914d7c4626a338f50588a13649",
            "f7b38500d1644bc6b9cc4d6a3520670a",
            "2ff98a7ed0c947f4a1800b736707ad61",
            "0ebbe670f3a84addb51ab97acd8d7f08",
            "f5b05f02772f484990605d0a3e34bf29",
            "e4de67eff132492281b8210d32a7fa81",
            "bdb088f2324f459aab956abaaa990c41",
            "e559f02847fe4707b0f666ae5077d87c",
            "fd39ee3e64374a87b731c667095d1aae",
            "0a08df55030e424497df9bbf4083952a"
          ]
        }
      },
      "outputs": [
        {
          "output_type": "stream",
          "name": "stdout",
          "text": [
            "Downloading https://doctr-static.mindee.com/models?id=v0.8.1/fast_base-688a8b34.pt&src=0 to /root/.cache/doctr/models/fast_base-688a8b34.pt\n"
          ]
        },
        {
          "output_type": "display_data",
          "data": {
            "text/plain": [
              "  0%|          | 0/65814772 [00:00<?, ?it/s]"
            ],
            "application/vnd.jupyter.widget-view+json": {
              "version_major": 2,
              "version_minor": 0,
              "model_id": "f27db58be61641ac9710b97e4584f48f"
            }
          },
          "metadata": {}
        },
        {
          "output_type": "stream",
          "name": "stdout",
          "text": [
            "Downloading https://doctr-static.mindee.com/models?id=v0.12.0/crnn_vgg16_bn-0417f351.pt&src=0 to /root/.cache/doctr/models/crnn_vgg16_bn-0417f351.pt\n"
          ]
        },
        {
          "output_type": "display_data",
          "data": {
            "text/plain": [
              "  0%|          | 0/63303144 [00:00<?, ?it/s]"
            ],
            "application/vnd.jupyter.widget-view+json": {
              "version_major": 2,
              "version_minor": 0,
              "model_id": "0c74e59c98c540d1a7beb486d7f6f048"
            }
          },
          "metadata": {}
        }
      ],
      "source": [
        "# Instantiate a pretrained model\n",
        "predictor = ocr_predictor(pretrained=True)"
      ]
    },
    {
      "cell_type": "code",
      "source": [],
      "metadata": {
        "id": "KbrGpJjPG4AJ"
      },
      "execution_count": 6,
      "outputs": []
    },
    {
      "cell_type": "markdown",
      "metadata": {
        "id": "PKKYSs0ET0XQ"
      },
      "source": [
        "By default, PyTorch model provides a nice visual description of a model, which is handy when it comes to debugging or knowing what you just created. We also added a similar feature for TensorFlow backend so that you don't miss on this nice assistance.\n",
        "\n",
        "Let's dive into this model 🕵"
      ]
    },
    {
      "cell_type": "code",
      "execution_count": 7,
      "metadata": {
        "id": "urR0KyUYOT-B",
        "outputId": "b958b74e-1d39-440a-8952-ec97064731c3",
        "colab": {
          "base_uri": "https://localhost:8080/"
        }
      },
      "outputs": [
        {
          "output_type": "stream",
          "name": "stdout",
          "text": [
            "OCRPredictor(\n",
            "  (det_predictor): DetectionPredictor(\n",
            "    (pre_processor): PreProcessor(\n",
            "      (resize): Resize(output_size=(1024, 1024), interpolation='bilinear', preserve_aspect_ratio=True, symmetric_pad=True)\n",
            "      (normalize): Normalize(mean=(0.798, 0.785, 0.772), std=(0.264, 0.2749, 0.287))\n",
            "    )\n",
            "    (model): FAST()\n",
            "  )\n",
            "  (reco_predictor): RecognitionPredictor(\n",
            "    (pre_processor): PreProcessor(\n",
            "      (resize): Resize(output_size=(32, 128), interpolation='bilinear', preserve_aspect_ratio=True, symmetric_pad=False)\n",
            "      (normalize): Normalize(mean=(0.694, 0.695, 0.693), std=(0.299, 0.296, 0.301))\n",
            "    )\n",
            "    (model): CRNN(\n",
            "      (feat_extractor): Sequential(\n",
            "        (0): Conv2d(3, 64, kernel_size=(3, 3), stride=(1, 1), padding=(1, 1))\n",
            "        (1): BatchNorm2d(64, eps=1e-05, momentum=0.1, affine=True, track_running_stats=True)\n",
            "        (2): ReLU(inplace=True)\n",
            "        (3): Conv2d(64, 64, kernel_size=(3, 3), stride=(1, 1), padding=(1, 1))\n",
            "        (4): BatchNorm2d(64, eps=1e-05, momentum=0.1, affine=True, track_running_stats=True)\n",
            "        (5): ReLU(inplace=True)\n",
            "        (6): MaxPool2d(kernel_size=2, stride=2, padding=0, dilation=1, ceil_mode=False)\n",
            "        (7): Conv2d(64, 128, kernel_size=(3, 3), stride=(1, 1), padding=(1, 1))\n",
            "        (8): BatchNorm2d(128, eps=1e-05, momentum=0.1, affine=True, track_running_stats=True)\n",
            "        (9): ReLU(inplace=True)\n",
            "        (10): Conv2d(128, 128, kernel_size=(3, 3), stride=(1, 1), padding=(1, 1))\n",
            "        (11): BatchNorm2d(128, eps=1e-05, momentum=0.1, affine=True, track_running_stats=True)\n",
            "        (12): ReLU(inplace=True)\n",
            "        (13): MaxPool2d(kernel_size=2, stride=2, padding=0, dilation=1, ceil_mode=False)\n",
            "        (14): Conv2d(128, 256, kernel_size=(3, 3), stride=(1, 1), padding=(1, 1))\n",
            "        (15): BatchNorm2d(256, eps=1e-05, momentum=0.1, affine=True, track_running_stats=True)\n",
            "        (16): ReLU(inplace=True)\n",
            "        (17): Conv2d(256, 256, kernel_size=(3, 3), stride=(1, 1), padding=(1, 1))\n",
            "        (18): BatchNorm2d(256, eps=1e-05, momentum=0.1, affine=True, track_running_stats=True)\n",
            "        (19): ReLU(inplace=True)\n",
            "        (20): Conv2d(256, 256, kernel_size=(3, 3), stride=(1, 1), padding=(1, 1))\n",
            "        (21): BatchNorm2d(256, eps=1e-05, momentum=0.1, affine=True, track_running_stats=True)\n",
            "        (22): ReLU(inplace=True)\n",
            "        (23): MaxPool2d(kernel_size=(2, 1), stride=(2, 1), padding=0, dilation=1, ceil_mode=False)\n",
            "        (24): Conv2d(256, 512, kernel_size=(3, 3), stride=(1, 1), padding=(1, 1))\n",
            "        (25): BatchNorm2d(512, eps=1e-05, momentum=0.1, affine=True, track_running_stats=True)\n",
            "        (26): ReLU(inplace=True)\n",
            "        (27): Conv2d(512, 512, kernel_size=(3, 3), stride=(1, 1), padding=(1, 1))\n",
            "        (28): BatchNorm2d(512, eps=1e-05, momentum=0.1, affine=True, track_running_stats=True)\n",
            "        (29): ReLU(inplace=True)\n",
            "        (30): Conv2d(512, 512, kernel_size=(3, 3), stride=(1, 1), padding=(1, 1))\n",
            "        (31): BatchNorm2d(512, eps=1e-05, momentum=0.1, affine=True, track_running_stats=True)\n",
            "        (32): ReLU(inplace=True)\n",
            "        (33): MaxPool2d(kernel_size=(2, 1), stride=(2, 1), padding=0, dilation=1, ceil_mode=False)\n",
            "        (34): Conv2d(512, 512, kernel_size=(3, 3), stride=(1, 1), padding=(1, 1))\n",
            "        (35): BatchNorm2d(512, eps=1e-05, momentum=0.1, affine=True, track_running_stats=True)\n",
            "        (36): ReLU(inplace=True)\n",
            "        (37): Conv2d(512, 512, kernel_size=(3, 3), stride=(1, 1), padding=(1, 1))\n",
            "        (38): BatchNorm2d(512, eps=1e-05, momentum=0.1, affine=True, track_running_stats=True)\n",
            "        (39): ReLU(inplace=True)\n",
            "        (40): Conv2d(512, 512, kernel_size=(3, 3), stride=(1, 1), padding=(1, 1))\n",
            "        (41): BatchNorm2d(512, eps=1e-05, momentum=0.1, affine=True, track_running_stats=True)\n",
            "        (42): ReLU(inplace=True)\n",
            "        (43): MaxPool2d(kernel_size=(2, 1), stride=(2, 1), padding=0, dilation=1, ceil_mode=False)\n",
            "      )\n",
            "      (decoder): LSTM(512, 128, num_layers=2, batch_first=True, bidirectional=True)\n",
            "      (linear): Linear(in_features=256, out_features=127, bias=True)\n",
            "      (postprocessor): CTCPostProcessor(vocab_size=126)\n",
            "    )\n",
            "  )\n",
            ")\n"
          ]
        }
      ],
      "source": [
        "# Display the architecture\n",
        "print(predictor)"
      ]
    },
    {
      "cell_type": "markdown",
      "metadata": {
        "id": "dlrtkNzTURAo"
      },
      "source": [
        "Here we are inspecting the most complex (and high-level) object of docTR API: an OCR predictor. Since docTR achieves Optical Character Recognition by first localizing textual elements (Text Detection), then extracting the corresponding text from each location (Text Recognition), the OCR Predictor wraps two sub-predictors: one for text detection, and the other for text recognition."
      ]
    },
    {
      "cell_type": "markdown",
      "metadata": {
        "id": "uyVfbzhUL-Rw"
      },
      "source": [
        "## Basic inference\n",
        "\n",
        "It looks quite complex, isn't it?\n",
        "Well that will not prevent you from easily get nice results. See for yourself:"
      ]
    },
    {
      "cell_type": "code",
      "execution_count": 8,
      "metadata": {
        "id": "RLPsdCj3PWzI"
      },
      "outputs": [],
      "source": [
        "result = predictor(doc)"
      ]
    },
    {
      "cell_type": "markdown",
      "metadata": {
        "id": "eFAwQaKuPYXG"
      },
      "source": [
        "## Prediction visualization\n",
        "\n",
        "If you rightfully prefer to see the results with your eyes, docTR includes a few visualization features. We will first overlay our predictions on the original document:"
      ]
    },
    {
      "cell_type": "code",
      "execution_count": 9,
      "metadata": {
        "id": "sOcqPNnPMAE7",
        "outputId": "8b629391-905b-4e5c-dbda-920c96d09b2f",
        "colab": {
          "base_uri": "https://localhost:8080/",
          "height": 1000
        }
      },
      "outputs": [
        {
          "output_type": "display_data",
          "data": {
            "text/plain": [
              "<Figure size 772.727x1000 with 1 Axes>"
            ],
            "image/png": "[encoded data removed]"
          },
          "metadata": {}
        }
      ],
      "source": [
        "result.show()"
      ]
    },
    {
      "cell_type": "markdown",
      "metadata": {
        "id": "EnJERph1VXgN"
      },
      "source": [
        "Looks accurate!\n",
        "But we can go further: if the extracted information is correctly structured, we should be able to recreate the page entirely. So let's do this 🎨"
      ]
    },
    {
      "cell_type": "code",
      "execution_count": 10,
      "metadata": {
        "id": "QdoSNYzROeRv",
        "outputId": "0fe5c6bc-a27c-42bd-d629-7da0408e0dfc",
        "colab": {
          "base_uri": "https://localhost:8080/",
          "height": 406
        }
      },
      "outputs": [
        {
          "output_type": "display_data",
          "data": {
            "text/plain": [
              "<Figure size 640x480 with 1 Axes>"
            ],
            "image/png": "[encoded data removed]"
          },
          "metadata": {}
        }
      ],
      "source": [
        "synthetic_pages = result.synthesize()\n",
        "plt.imshow(synthetic_pages[0]); plt.axis('off'); plt.show()"
      ]
    },
    {
      "cell_type": "markdown",
      "metadata": {
        "id": "mEabainyPeV8"
      },
      "source": [
        "## Exporting results\n",
        "\n",
        "OK, so the predictions are relevant, but how would you integrate this into your own document processing pipeline? Perhaps you're not using Python at all?\n",
        "\n",
        "Well, if you happen to be using JSON or XML exports, they are already supported 🤗"
      ]
    },
    {
      "cell_type": "code",
      "execution_count": 11,
      "metadata": {
        "id": "mhIolyjQOqLp",
        "outputId": "f365e86b-a75b-4a75-b5b4-10d47f32eebf",
        "colab": {
          "base_uri": "https://localhost:8080/"
        }
      },
      "outputs": [
        {
          "output_type": "stream",
          "name": "stdout",
          "text": [
            "{'pages': [{'page_idx': 0, 'dimensions': (1584, 1224), 'orientation': {'value': None, 'confidence': None}, 'language': {'value': None, 'confidence': None}, 'blocks': [{'geometry': ((np.float64(0.11580882352941174), np.float64(0.0625)), (np.float64(0.9145220588235294), np.float64(0.958984375))), 'objectness_score': 0.7954577384171663, 'lines': [{'geometry': ((np.float64(0.3142233455882353), np.float64(0.0625)), (np.float64(0.6870404411764706), np.float64(0.083984375))), 'objectness_score': 0.8068580031394958, 'words': [{'value': 'CASH', 'confidence': 0.9952945113182068, 'geometry': ((np.float64(0.3142233455882353), np.float64(0.0625)), (np.float64(0.39763327205882354), np.float64(0.083984375))), 'objectness_score': 0.7790147662162781, 'crop_orientation': {'value': 0, 'confidence': None}}, {'value': 'PAYMENT', 'confidence': 0.7098815441131592, 'geometry': ((np.float64(0.40774356617647056), np.float64(0.064453125)), (np.float64(0.5518152573529411), np.float64(0.08203125))), 'objectness_score': 0.8103041052818298, 'crop_orientation': {'value': 0, 'confidence': None}}, {'value': 'RECEIPT', 'confidence': 0.9843303561210632, 'geometry': ((np.float64(0.5606617647058824), np.float64(0.064453125)), (np.float64(0.6870404411764706), np.float64(0.08203125))), 'objectness_score': 0.8312551379203796, 'crop_orientation': {'value': 0, 'confidence': None}}]}, {'geometry': ((np.float64(0.11833639705882354), np.float64(0.11328125)), (np.float64(0.28010110294117646), np.float64(0.1328125))), 'objectness_score': 0.7796289920806885, 'words': [{'value': 'Company', 'confidence': 0.9595755934715271, 'geometry': ((np.float64(0.11833639705882354), np.float64(0.1142578125)), (np.float64(0.21059283088235292), np.float64(0.1328125))), 'objectness_score': 0.77751225233078, 'crop_orientation': {'value': 0, 'confidence': None}}, {'value': 'Name:', 'confidence': 0.9947050213813782, 'geometry': ((np.float64(0.21312040441176472), np.float64(0.11328125)), (np.float64(0.28010110294117646), np.float64(0.130859375))), 'objectness_score': 0.7817457318305969, 'crop_orientation': {'value': 0, 'confidence': None}}]}, {'geometry': ((np.float64(0.11707261029411764), np.float64(0.1318359375)), (np.float64(0.2661994485294118), np.float64(0.1494140625))), 'objectness_score': 0.7995693981647491, 'words': [{'value': 'Street', 'confidence': 0.7729383111000061, 'geometry': ((np.float64(0.11707261029411764), np.float64(0.1318359375)), (np.float64(0.177734375), np.float64(0.1494140625))), 'objectness_score': 0.7718740105628967, 'crop_orientation': {'value': 0, 'confidence': None}}, {'value': 'Address:', 'confidence': 0.9973871111869812, 'geometry': ((np.float64(0.177734375), np.float64(0.1328125)), (np.float64(0.2661994485294118), np.float64(0.1494140625))), 'objectness_score': 0.8272647857666016, 'crop_orientation': {'value': 0, 'confidence': None}}]}, {'geometry': ((np.float64(0.11707261029411764), np.float64(0.1513671875)), (np.float64(0.26493566176470584), np.float64(0.171875))), 'objectness_score': 0.8194483915964762, 'words': [{'value': 'City,', 'confidence': 0.6182863116264343, 'geometry': ((np.float64(0.11707261029411764), np.float64(0.1513671875)), (np.float64(0.16130514705882354), np.float64(0.1708984375))), 'objectness_score': 0.8601685762405396, 'crop_orientation': {'value': 0, 'confidence': None}}, {'value': 'State,', 'confidence': 0.9972848892211914, 'geometry': ((np.float64(0.16509650735294118), np.float64(0.1513671875)), (np.float64(0.22323069852941174), np.float64(0.169921875))), 'objectness_score': 0.796501874923706, 'crop_orientation': {'value': 0, 'confidence': None}}, {'value': 'Zip:', 'confidence': 0.9998257756233215, 'geometry': ((np.float64(0.22449448529411764), np.float64(0.1513671875)), (np.float64(0.26493566176470584), np.float64(0.171875))), 'objectness_score': 0.8016747236251831, 'crop_orientation': {'value': 0, 'confidence': None}}]}, {'geometry': ((np.float64(0.11960018382352944), np.float64(0.1708984375)), (np.float64(0.18531709558823528), np.float64(0.185546875))), 'objectness_score': 0.8363909125328064, 'words': [{'value': 'Phone:', 'confidence': 0.9991918206214905, 'geometry': ((np.float64(0.11960018382352944), np.float64(0.1708984375)), (np.float64(0.18531709558823528), np.float64(0.185546875))), 'objectness_score': 0.8363909125328064, 'crop_orientation': {'value': 0, 'confidence': None}}]}, {'geometry': ((np.float64(0.11833639705882354), np.float64(0.189453125)), (np.float64(0.16130514705882354), np.float64(0.205078125))), 'objectness_score': 0.8494606018066406, 'words': [{'value': 'Fax:', 'confidence': 0.9978128671646118, 'geometry': ((np.float64(0.11833639705882354), np.float64(0.189453125)), (np.float64(0.16130514705882354), np.float64(0.205078125))), 'objectness_score': 0.8494606018066406, 'crop_orientation': {'value': 0, 'confidence': None}}]}, {'geometry': ((np.float64(0.11707261029411764), np.float64(0.20703125)), (np.float64(0.1789981617647059), np.float64(0.224609375))), 'objectness_score': 0.806220293045044, 'words': [{'value': 'Email:', 'confidence': 0.8917550444602966, 'geometry': ((np.float64(0.11707261029411764), np.float64(0.20703125)), (np.float64(0.1789981617647059), np.float64(0.224609375))), 'objectness_score': 0.806220293045044, 'crop_orientation': {'value': 0, 'confidence': None}}]}, {'geometry': ((np.float64(0.11580882352941174), np.float64(0.2265625)), (np.float64(0.20301011029411764), np.float64(0.2431640625))), 'objectness_score': 0.7923747897148132, 'words': [{'value': 'Website:', 'confidence': 0.7255234122276306, 'geometry': ((np.float64(0.11580882352941174), np.float64(0.2265625)), (np.float64(0.20301011029411764), np.float64(0.2431640625))), 'objectness_score': 0.7923747897148132, 'crop_orientation': {'value': 0, 'confidence': None}}]}, {'geometry': ((np.float64(0.11707261029411764), np.float64(0.2861328125)), (np.float64(0.17141544117647056), np.float64(0.3037109375))), 'objectness_score': 0.7869206666946411, 'words': [{'value': 'Date:', 'confidence': 0.9965465664863586, 'geometry': ((np.float64(0.11707261029411764), np.float64(0.2861328125)), (np.float64(0.17141544117647056), np.float64(0.3037109375))), 'objectness_score': 0.7869206666946411, 'crop_orientation': {'value': 0, 'confidence': None}}]}, {'geometry': ((np.float64(0.6352251838235294), np.float64(0.287109375)), (np.float64(0.7350643382352942), np.float64(0.3056640625))), 'objectness_score': 0.7927883863449097, 'words': [{'value': 'Receipt', 'confidence': 0.9944190382957458, 'geometry': ((np.float64(0.6352251838235294), np.float64(0.287109375)), (np.float64(0.7097886029411764), np.float64(0.3056640625))), 'objectness_score': 0.7952840328216553, 'crop_orientation': {'value': 0, 'confidence': None}}, {'value': '#:', 'confidence': 0.9800899028778076, 'geometry': ((np.float64(0.7097886029411764), np.float64(0.287109375)), (np.float64(0.7350643382352942), np.float64(0.3037109375))), 'objectness_score': 0.7902927398681641, 'crop_orientation': {'value': 0, 'confidence': None}}]}, {'geometry': ((np.float64(0.37109375), np.float64(0.369140625)), (np.float64(0.62890625), np.float64(0.390625))), 'objectness_score': 0.8240702152252197, 'words': [{'value': 'Payment', 'confidence': 0.9628700613975525, 'geometry': ((np.float64(0.37109375), np.float64(0.369140625)), (np.float64(0.4797794117647059), np.float64(0.390625))), 'objectness_score': 0.8014771342277527, 'crop_orientation': {'value': 0, 'confidence': None}}, {'value': 'Information', 'confidence': 0.957953155040741, 'geometry': ((np.float64(0.4873621323529412), np.float64(0.3701171875)), (np.float64(0.62890625), np.float64(0.38671875))), 'objectness_score': 0.8466632962226868, 'crop_orientation': {'value': 0, 'confidence': None}}]}, {'geometry': ((np.float64(0.11707261029411764), np.float64(0.4150390625)), (np.float64(0.19921875), np.float64(0.4365234375))), 'objectness_score': 0.7621869444847107, 'words': [{'value': 'Paid', 'confidence': 0.9993093013763428, 'geometry': ((np.float64(0.11707261029411764), np.float64(0.4150390625)), (np.float64(0.16256893382352944), np.float64(0.43359375))), 'objectness_score': 0.7762599587440491, 'crop_orientation': {'value': 0, 'confidence': None}}, {'value': 'By:', 'confidence': 0.9995954632759094, 'geometry': ((np.float64(0.16383272058823528), np.float64(0.4150390625)), (np.float64(0.19921875), np.float64(0.4365234375))), 'objectness_score': 0.7481139302253723, 'crop_orientation': {'value': 0, 'confidence': None}}]}, {'geometry': ((np.float64(0.11707261029411764), np.float64(0.4580078125)), (np.float64(0.24597886029411764), np.float64(0.47265625))), 'objectness_score': 0.8377028703689575, 'words': [{'value': 'Amount', 'confidence': 0.95013028383255, 'geometry': ((np.float64(0.11707261029411764), np.float64(0.4580078125)), (np.float64(0.19289981617647056), np.float64(0.47265625))), 'objectness_score': 0.8252373933792114, 'crop_orientation': {'value': 0, 'confidence': None}}, {'value': 'Paid:', 'confidence': 0.9897067546844482, 'geometry': ((np.float64(0.19669117647058826), np.float64(0.4580078125)), (np.float64(0.24597886029411764), np.float64(0.47265625))), 'objectness_score': 0.8501683473587036, 'crop_orientation': {'value': 0, 'confidence': None}}]}, {'geometry': ((np.float64(0.5770909926470589), np.float64(0.4560546875)), (np.float64(0.6706112132352942), np.float64(0.4765625))), 'objectness_score': 0.8115723133087158, 'words': [{'value': 'Dollars', 'confidence': 0.9954850673675537, 'geometry': ((np.float64(0.5770909926470589), np.float64(0.4580078125)), (np.float64(0.6428079044117647), np.float64(0.47265625))), 'objectness_score': 0.8695416450500488, 'crop_orientation': {'value': 0, 'confidence': None}}, {'value': '($', 'confidence': 0.9954829216003418, 'geometry': ((np.float64(0.6465992647058824), np.float64(0.4560546875)), (np.float64(0.6706112132352942), np.float64(0.4765625))), 'objectness_score': 0.7536029815673828, 'crop_orientation': {'value': 0, 'confidence': None}}]}, {'geometry': ((np.float64(0.11833639705882354), np.float64(0.498046875)), (np.float64(0.2763097426470588), np.float64(0.5166015625))), 'objectness_score': 0.8438632090886434, 'words': [{'value': 'For', 'confidence': 0.9996805191040039, 'geometry': ((np.float64(0.11833639705882354), np.float64(0.498046875)), (np.float64(0.15245863970588236), np.float64(0.5146484375))), 'objectness_score': 0.810603678226471, 'crop_orientation': {'value': 0, 'confidence': None}}, {'value': 'Payment', 'confidence': 0.9779629111289978, 'geometry': ((np.float64(0.15625), np.float64(0.4990234375)), (np.float64(0.2421875), np.float64(0.5166015625))), 'objectness_score': 0.8654720783233643, 'crop_orientation': {'value': 0, 'confidence': None}}, {'value': 'Of:', 'confidence': 0.9995291233062744, 'geometry': ((np.float64(0.24471507352941174), np.float64(0.498046875)), (np.float64(0.2763097426470588), np.float64(0.5146484375))), 'objectness_score': 0.855513870716095, 'crop_orientation': {'value': 0, 'confidence': None}}]}, {'geometry': ((np.float64(0.6377527573529411), np.float64(0.568359375)), (np.float64(0.7464384191176471), np.float64(0.5888671875))), 'objectness_score': 0.7400814890861511, 'words': [{'value': 'Subtotal:', 'confidence': 0.9829406142234802, 'geometry': ((np.float64(0.6377527573529411), np.float64(0.5703125)), (np.float64(0.7236902573529411), np.float64(0.5869140625))), 'objectness_score': 0.7667462825775146, 'crop_orientation': {'value': 0, 'confidence': None}}, {'value': '$', 'confidence': 0.943552553653717, 'geometry': ((np.float64(0.7262178308823529), np.float64(0.568359375)), (np.float64(0.7464384191176471), np.float64(0.5888671875))), 'objectness_score': 0.7134166955947876, 'crop_orientation': {'value': 0, 'confidence': None}}]}, {'geometry': ((np.float64(0.6011029411764706), np.float64(0.6005859375)), (np.float64(0.736328125), np.float64(0.6220703125))), 'objectness_score': 0.7918516596158346, 'words': [{'value': 'Tax', 'confidence': 0.986690878868103, 'geometry': ((np.float64(0.6011029411764706), np.float64(0.6005859375)), (np.float64(0.6428079044117647), np.float64(0.619140625))), 'objectness_score': 0.7415971159934998, 'crop_orientation': {'value': 0, 'confidence': None}}, {'value': 'Rate', 'confidence': 0.9995903372764587, 'geometry': ((np.float64(0.6453354779411764), np.float64(0.6025390625)), (np.float64(0.6920955882352942), np.float64(0.6181640625))), 'objectness_score': 0.7999241948127747, 'crop_orientation': {'value': 0, 'confidence': None}}, {'value': '(%):', 'confidence': 0.926702082157135, 'geometry': ((np.float64(0.6958869485294118), np.float64(0.6015625)), (np.float64(0.736328125), np.float64(0.6220703125))), 'objectness_score': 0.8340336680412292, 'crop_orientation': {'value': 0, 'confidence': None}}]}, {'geometry': ((np.float64(0.6263786764705882), np.float64(0.6318359375)), (np.float64(0.7451746323529411), np.float64(0.65234375))), 'objectness_score': 0.8157453934351603, 'words': [{'value': 'Total', 'confidence': 0.9837928414344788, 'geometry': ((np.float64(0.6263786764705882), np.float64(0.6328125)), (np.float64(0.6781939338235294), np.float64(0.650390625))), 'objectness_score': 0.8275414705276489, 'crop_orientation': {'value': 0, 'confidence': None}}, {'value': 'Tax:', 'confidence': 0.9909350275993347, 'geometry': ((np.float64(0.6807215073529411), np.float64(0.6337890625)), (np.float64(0.7236902573529411), np.float64(0.6494140625))), 'objectness_score': 0.8567672371864319, 'crop_orientation': {'value': 0, 'confidence': None}}, {'value': '$', 'confidence': 0.7954608798027039, 'geometry': ((np.float64(0.7262178308823529), np.float64(0.6318359375)), (np.float64(0.7451746323529411), np.float64(0.65234375))), 'objectness_score': 0.7629274725914001, 'crop_orientation': {'value': 0, 'confidence': None}}]}, {'geometry': ((np.float64(0.5442325367647058), np.float64(0.6630859375)), (np.float64(0.7451746323529411), np.float64(0.68359375))), 'objectness_score': 0.8176806718111038, 'words': [{'value': 'Total', 'confidence': 0.5708767175674438, 'geometry': ((np.float64(0.5442325367647058), np.float64(0.6640625)), (np.float64(0.5960477941176471), np.float64(0.681640625))), 'objectness_score': 0.8157930970191956, 'crop_orientation': {'value': 0, 'confidence': None}}, {'value': 'Amount', 'confidence': 0.9317349195480347, 'geometry': ((np.float64(0.5985753676470589), np.float64(0.666015625)), (np.float64(0.6744025735294118), np.float64(0.6796875))), 'objectness_score': 0.8539444208145142, 'crop_orientation': {'value': 0, 'confidence': None}}, {'value': 'Due:', 'confidence': 0.9993017911911011, 'geometry': ((np.float64(0.6781939338235294), np.float64(0.6650390625)), (np.float64(0.7249540441176471), np.float64(0.6806640625))), 'objectness_score': 0.8448212742805481, 'crop_orientation': {'value': 0, 'confidence': None}}, {'value': '$', 'confidence': 0.8961721658706665, 'geometry': ((np.float64(0.7262178308823529), np.float64(0.6630859375)), (np.float64(0.7451746323529411), np.float64(0.68359375))), 'objectness_score': 0.7561638951301575, 'crop_orientation': {'value': 0, 'confidence': None}}]}, {'geometry': ((np.float64(0.5947840073529411), np.float64(0.6953125)), (np.float64(0.7451746323529411), np.float64(0.7158203125))), 'objectness_score': 0.753011425336202, 'words': [{'value': 'Amount', 'confidence': 0.5021416544914246, 'geometry': ((np.float64(0.5947840073529411), np.float64(0.697265625)), (np.float64(0.6706112132352942), np.float64(0.7119140625))), 'objectness_score': 0.8580790162086487, 'crop_orientation': {'value': 0, 'confidence': None}}, {'value': 'Paid:', 'confidence': 0.9982855916023254, 'geometry': ((np.float64(0.6731387867647058), np.float64(0.6953125)), (np.float64(0.7249540441176471), np.float64(0.7138671875))), 'objectness_score': 0.7266239523887634, 'crop_orientation': {'value': 0, 'confidence': None}}, {'value': '$', 'confidence': 0.7252873182296753, 'geometry': ((np.float64(0.7249540441176471), np.float64(0.6953125)), (np.float64(0.7451746323529411), np.float64(0.7158203125))), 'objectness_score': 0.6743313074111938, 'crop_orientation': {'value': 0, 'confidence': None}}]}, {'geometry': ((np.float64(0.5341222426470589), np.float64(0.7265625)), (np.float64(0.7451746323529411), np.float64(0.7470703125))), 'objectness_score': 0.750636359055837, 'words': [{'value': 'Remaining', 'confidence': 0.9948144555091858, 'geometry': ((np.float64(0.5341222426470589), np.float64(0.7294921875)), (np.float64(0.6352251838235294), np.float64(0.7470703125))), 'objectness_score': 0.7928719520568848, 'crop_orientation': {'value': 0, 'confidence': None}}, {'value': 'Balance:', 'confidence': 0.9887944459915161, 'geometry': ((np.float64(0.6390165441176471), np.float64(0.7275390625)), (np.float64(0.7236902573529411), np.float64(0.744140625))), 'objectness_score': 0.7610649466514587, 'crop_orientation': {'value': 0, 'confidence': None}}, {'value': '$', 'confidence': 0.6087750792503357, 'geometry': ((np.float64(0.7249540441176471), np.float64(0.7265625)), (np.float64(0.7451746323529411), np.float64(0.7470703125))), 'objectness_score': 0.6979721784591675, 'crop_orientation': {'value': 0, 'confidence': None}}]}, {'geometry': ((np.float64(0.11960018382352944), np.float64(0.7998046875)), (np.float64(0.24597886029411764), np.float64(0.8203125))), 'objectness_score': 0.8360083699226379, 'words': [{'value': 'Received', 'confidence': 0.8074694275856018, 'geometry': ((np.float64(0.11960018382352944), np.float64(0.8017578125)), (np.float64(0.20806525735294118), np.float64(0.8154296875))), 'objectness_score': 0.8515897989273071, 'crop_orientation': {'value': 0, 'confidence': None}}, {'value': 'By:', 'confidence': 0.9577727913856506, 'geometry': ((np.float64(0.21059283088235292), np.float64(0.7998046875)), (np.float64(0.24597886029411764), np.float64(0.8203125))), 'objectness_score': 0.8204269409179688, 'crop_orientation': {'value': 0, 'confidence': None}}]}, {'geometry': ((np.float64(0.11580882352941174), np.float64(0.8408203125)), (np.float64(0.33318014705882354), np.float64(0.8603515625))), 'objectness_score': 0.7337365746498108, 'words': [{'value': 'Authorized', 'confidence': 0.99172043800354, 'geometry': ((np.float64(0.11580882352941174), np.float64(0.8408203125)), (np.float64(0.23081341911764708), np.float64(0.857421875))), 'objectness_score': 0.7112308144569397, 'crop_orientation': {'value': 0, 'confidence': None}}, {'value': 'Signature', 'confidence': 0.9737638235092163, 'geometry': ((np.float64(0.23460477941176472), np.float64(0.841796875)), (np.float64(0.33318014705882354), np.float64(0.8603515625))), 'objectness_score': 0.7562423348426819, 'crop_orientation': {'value': 0, 'confidence': None}}]}, {'geometry': ((np.float64(0.8273207720588236), np.float64(0.9404296875)), (np.float64(0.9145220588235294), np.float64(0.958984375))), 'objectness_score': 0.7584233731031418, 'words': [{'value': 'Page', 'confidence': 0.9998195767402649, 'geometry': ((np.float64(0.8273207720588236), np.float64(0.9404296875)), (np.float64(0.8702895220588236), np.float64(0.958984375))), 'objectness_score': 0.8038526177406311, 'crop_orientation': {'value': 0, 'confidence': None}}, {'value': '1', 'confidence': 0.9997072815895081, 'geometry': ((np.float64(0.8702895220588236), np.float64(0.9404296875)), (np.float64(0.8829273897058824), np.float64(0.9560546875))), 'objectness_score': 0.7404372096061707, 'crop_orientation': {'value': 0, 'confidence': None}}, {'value': 'of', 'confidence': 0.973809003829956, 'geometry': ((np.float64(0.8829273897058824), np.float64(0.94140625)), (np.float64(0.9006204044117647), np.float64(0.955078125))), 'objectness_score': 0.7899892330169678, 'crop_orientation': {'value': 0, 'confidence': None}}, {'value': '1', 'confidence': 0.9366376399993896, 'geometry': ((np.float64(0.9006204044117647), np.float64(0.94140625)), (np.float64(0.9145220588235294), np.float64(0.9560546875))), 'objectness_score': 0.6994144320487976, 'crop_orientation': {'value': 0, 'confidence': None}}]}], 'artefacts': []}]}]}\n"
          ]
        }
      ],
      "source": [
        "# JSON export\n",
        "json_export = result.export()\n",
        "print(json_export)"
      ]
    },
    {
      "cell_type": "code",
      "execution_count": null,
      "metadata": {
        "id": "3RsuKIlYPnNf"
      },
      "outputs": [],
      "source": [
        "# XML export\n",
        "xml_output = result.export_as_xml()\n",
        "print(xml_output[0][0])"
      ]
    },
    {
      "cell_type": "markdown",
      "metadata": {
        "id": "1jMtYYupC_h5"
      },
      "source": [
        "Or if you only need the extracted plain text"
      ]
    },
    {
      "cell_type": "code",
      "execution_count": 12,
      "metadata": {
        "id": "mPkaooRnDlkQ",
        "outputId": "9b4d6f68-b726-4de7-cf68-c9779546b71e",
        "colab": {
          "base_uri": "https://localhost:8080/"
        }
      },
      "outputs": [
        {
          "output_type": "stream",
          "name": "stdout",
          "text": [
            "CASH PAYMENT RECEIPT\n",
            "Company Name:\n",
            "Street Address:\n",
            "City, State, Zip:\n",
            "Phone:\n",
            "Fax:\n",
            "Email:\n",
            "Website:\n",
            "Date:\n",
            "Receipt #:\n",
            "Payment Information\n",
            "Paid By:\n",
            "Amount Paid:\n",
            "Dollars ($\n",
            "For Payment Of:\n",
            "Subtotal: $\n",
            "Tax Rate (%):\n",
            "Total Tax: $\n",
            "Total Amount Due: $\n",
            "Amount Paid: $\n",
            "Remaining Balance: $\n",
            "Received By:\n",
            "Authorized Signature\n",
            "Page 1 of 1\n"
          ]
        }
      ],
      "source": [
        "string_result = result.render()\n",
        "print(string_result)"
      ]
    },
    {
      "cell_type": "code",
      "source": [],
      "metadata": {
        "id": "EbWDOBVWIndg"
      },
      "execution_count": null,
      "outputs": []
    }
  ],
  "metadata": {
    "colab": {
      "provenance": []
    },
    "kernelspec": {
      "display_name": "Python 3",
      "language": "python",
      "name": "python3"
    },
    "language_info": {
      "codemirror_mode": {
        "name": "ipython",
        "version": 3
      },
      "file_extension": ".py",
      "mimetype": "text/x-python",
      "name": "python",
      "nbconvert_exporter": "python",
      "pygments_lexer": "ipython3",
      "version": "3.8.8"
    },
    "widgets": {
      "application/vnd.jupyter.widget-state+json": {
        "f27db58be61641ac9710b97e4584f48f": {
          "model_module": "@jupyter-widgets/controls",
          "model_name": "HBoxModel",
          "model_module_version": "1.5.0",
          "state": {
            "_dom_classes": [],
            "_model_module": "@jupyter-widgets/controls",
            "_model_module_version": "1.5.0",
            "_model_name": "HBoxModel",
            "_view_count": null,
            "_view_module": "@jupyter-widgets/controls",
            "_view_module_version": "1.5.0",
            "_view_name": "HBoxView",
            "box_style": "",
            "children": [
              "IPY_MODEL_90a37f3fbaa242a3965b94ddf5f04568",
              "IPY_MODEL_799078a8d16544b196bdbc640415bbbd",
              "IPY_MODEL_962383107a20445b91155f86e4667cb0"
            ],
            "layout": "IPY_MODEL_6e2cb5d6cacd44068790d2ec29b43009"
          }
        },
        "90a37f3fbaa242a3965b94ddf5f04568": {
          "model_module": "@jupyter-widgets/controls",
          "model_name": "HTMLModel",
          "model_module_version": "1.5.0",
          "state": {
            "_dom_classes": [],
            "_model_module": "@jupyter-widgets/controls",
            "_model_module_version": "1.5.0",
            "_model_name": "HTMLModel",
            "_view_count": null,
            "_view_module": "@jupyter-widgets/controls",
            "_view_module_version": "1.5.0",
            "_view_name": "HTMLView",
            "description": "",
            "description_tooltip": null,
            "layout": "IPY_MODEL_4bcca6b7798a45bcb11e4690aae1eeeb",
            "placeholder": "​",
            "style": "IPY_MODEL_897771a5b2e24fd9a97972b29d08f933",
            "value": ""
          }
        },
        "799078a8d16544b196bdbc640415bbbd": {
          "model_module": "@jupyter-widgets/controls",
          "model_name": "FloatProgressModel",
          "model_module_version": "1.5.0",
          "state": {
            "_dom_classes": [],
            "_model_module": "@jupyter-widgets/controls",
            "_model_module_version": "1.5.0",
            "_model_name": "FloatProgressModel",
            "_view_count": null,
            "_view_module": "@jupyter-widgets/controls",
            "_view_module_version": "1.5.0",
            "_view_name": "ProgressView",
            "bar_style": "success",
            "description": "",
            "description_tooltip": null,
            "layout": "IPY_MODEL_886c979107ec40b4bb14d916ea53f754",
            "max": 65814772,
            "min": 0,
            "orientation": "horizontal",
            "style": "IPY_MODEL_667f9d9eb65944c29348f8406633fc8d",
            "value": 65814772
          }
        },
        "962383107a20445b91155f86e4667cb0": {
          "model_module": "@jupyter-widgets/controls",
          "model_name": "HTMLModel",
          "model_module_version": "1.5.0",
          "state": {
            "_dom_classes": [],
            "_model_module": "@jupyter-widgets/controls",
            "_model_module_version": "1.5.0",
            "_model_name": "HTMLModel",
            "_view_count": null,
            "_view_module": "@jupyter-widgets/controls",
            "_view_module_version": "1.5.0",
            "_view_name": "HTMLView",
            "description": "",
            "description_tooltip": null,
            "layout": "IPY_MODEL_5eb3b2d6ad88468fa1970ad7c7628822",
            "placeholder": "​",
            "style": "IPY_MODEL_452a74d91ecb4556af166fa80de8d91c",
            "value": " 65815552/? [00:00&lt;00:00, 172032460.95it/s]"
          }
        },
        "6e2cb5d6cacd44068790d2ec29b43009": {
          "model_module": "@jupyter-widgets/base",
          "model_name": "LayoutModel",
          "model_module_version": "1.2.0",
          "state": {
            "_model_module": "@jupyter-widgets/base",
            "_model_module_version": "1.2.0",
            "_model_name": "LayoutModel",
            "_view_count": null,
            "_view_module": "@jupyter-widgets/base",
            "_view_module_version": "1.2.0",
            "_view_name": "LayoutView",
            "align_content": null,
            "align_items": null,
            "align_self": null,
            "border": null,
            "bottom": null,
            "display": null,
            "flex": null,
            "flex_flow": null,
            "grid_area": null,
            "grid_auto_columns": null,
            "grid_auto_flow": null,
            "grid_auto_rows": null,
            "grid_column": null,
            "grid_gap": null,
            "grid_row": null,
            "grid_template_areas": null,
            "grid_template_columns": null,
            "grid_template_rows": null,
            "height": null,
            "justify_content": null,
            "justify_items": null,
            "left": null,
            "margin": null,
            "max_height": null,
            "max_width": null,
            "min_height": null,
            "min_width": null,
            "object_fit": null,
            "object_position": null,
            "order": null,
            "overflow": null,
            "overflow_x": null,
            "overflow_y": null,
            "padding": null,
            "right": null,
            "top": null,
            "visibility": null,
            "width": null
          }
        },
        "4bcca6b7798a45bcb11e4690aae1eeeb": {
          "model_module": "@jupyter-widgets/base",
          "model_name": "LayoutModel",
          "model_module_version": "1.2.0",
          "state": {
            "_model_module": "@jupyter-widgets/base",
            "_model_module_version": "1.2.0",
            "_model_name": "LayoutModel",
            "_view_count": null,
            "_view_module": "@jupyter-widgets/base",
            "_view_module_version": "1.2.0",
            "_view_name": "LayoutView",
            "align_content": null,
            "align_items": null,
            "align_self": null,
            "border": null,
            "bottom": null,
            "display": null,
            "flex": null,
            "flex_flow": null,
            "grid_area": null,
            "grid_auto_columns": null,
            "grid_auto_flow": null,
            "grid_auto_rows": null,
            "grid_column": null,
            "grid_gap": null,
            "grid_row": null,
            "grid_template_areas": null,
            "grid_template_columns": null,
            "grid_template_rows": null,
            "height": null,
            "justify_content": null,
            "justify_items": null,
            "left": null,
            "margin": null,
            "max_height": null,
            "max_width": null,
            "min_height": null,
            "min_width": null,
            "object_fit": null,
            "object_position": null,
            "order": null,
            "overflow": null,
            "overflow_x": null,
            "overflow_y": null,
            "padding": null,
            "right": null,
            "top": null,
            "visibility": null,
            "width": null
          }
        },
        "897771a5b2e24fd9a97972b29d08f933": {
          "model_module": "@jupyter-widgets/controls",
          "model_name": "DescriptionStyleModel",
          "model_module_version": "1.5.0",
          "state": {
            "_model_module": "@jupyter-widgets/controls",
            "_model_module_version": "1.5.0",
            "_model_name": "DescriptionStyleModel",
            "_view_count": null,
            "_view_module": "@jupyter-widgets/base",
            "_view_module_version": "1.2.0",
            "_view_name": "StyleView",
            "description_width": ""
          }
        },
        "886c979107ec40b4bb14d916ea53f754": {
          "model_module": "@jupyter-widgets/base",
          "model_name": "LayoutModel",
          "model_module_version": "1.2.0",
          "state": {
            "_model_module": "@jupyter-widgets/base",
            "_model_module_version": "1.2.0",
            "_model_name": "LayoutModel",
            "_view_count": null,
            "_view_module": "@jupyter-widgets/base",
            "_view_module_version": "1.2.0",
            "_view_name": "LayoutView",
            "align_content": null,
            "align_items": null,
            "align_self": null,
            "border": null,
            "bottom": null,
            "display": null,
            "flex": null,
            "flex_flow": null,
            "grid_area": null,
            "grid_auto_columns": null,
            "grid_auto_flow": null,
            "grid_auto_rows": null,
            "grid_column": null,
            "grid_gap": null,
            "grid_row": null,
            "grid_template_areas": null,
            "grid_template_columns": null,
            "grid_template_rows": null,
            "height": null,
            "justify_content": null,
            "justify_items": null,
            "left": null,
            "margin": null,
            "max_height": null,
            "max_width": null,
            "min_height": null,
            "min_width": null,
            "object_fit": null,
            "object_position": null,
            "order": null,
            "overflow": null,
            "overflow_x": null,
            "overflow_y": null,
            "padding": null,
            "right": null,
            "top": null,
            "visibility": null,
            "width": null
          }
        },
        "667f9d9eb65944c29348f8406633fc8d": {
          "model_module": "@jupyter-widgets/controls",
          "model_name": "ProgressStyleModel",
          "model_module_version": "1.5.0",
          "state": {
            "_model_module": "@jupyter-widgets/controls",
            "_model_module_version": "1.5.0",
            "_model_name": "ProgressStyleModel",
            "_view_count": null,
            "_view_module": "@jupyter-widgets/base",
            "_view_module_version": "1.2.0",
            "_view_name": "StyleView",
            "bar_color": null,
            "description_width": ""
          }
        },
        "5eb3b2d6ad88468fa1970ad7c7628822": {
          "model_module": "@jupyter-widgets/base",
          "model_name": "LayoutModel",
          "model_module_version": "1.2.0",
          "state": {
            "_model_module": "@jupyter-widgets/base",
            "_model_module_version": "1.2.0",
            "_model_name": "LayoutModel",
            "_view_count": null,
            "_view_module": "@jupyter-widgets/base",
            "_view_module_version": "1.2.0",
            "_view_name": "LayoutView",
            "align_content": null,
            "align_items": null,
            "align_self": null,
            "border": null,
            "bottom": null,
            "display": null,
            "flex": null,
            "flex_flow": null,
            "grid_area": null,
            "grid_auto_columns": null,
            "grid_auto_flow": null,
            "grid_auto_rows": null,
            "grid_column": null,
            "grid_gap": null,
            "grid_row": null,
            "grid_template_areas": null,
            "grid_template_columns": null,
            "grid_template_rows": null,
            "height": null,
            "justify_content": null,
            "justify_items": null,
            "left": null,
            "margin": null,
            "max_height": null,
            "max_width": null,
            "min_height": null,
            "min_width": null,
            "object_fit": null,
            "object_position": null,
            "order": null,
            "overflow": null,
            "overflow_x": null,
            "overflow_y": null,
            "padding": null,
            "right": null,
            "top": null,
            "visibility": null,
            "width": null
          }
        },
        "452a74d91ecb4556af166fa80de8d91c": {
          "model_module": "@jupyter-widgets/controls",
          "model_name": "DescriptionStyleModel",
          "model_module_version": "1.5.0",
          "state": {
            "_model_module": "@jupyter-widgets/controls",
            "_model_module_version": "1.5.0",
            "_model_name": "DescriptionStyleModel",
            "_view_count": null,
            "_view_module": "@jupyter-widgets/base",
            "_view_module_version": "1.2.0",
            "_view_name": "StyleView",
            "description_width": ""
          }
        },
        "0c74e59c98c540d1a7beb486d7f6f048": {
          "model_module": "@jupyter-widgets/controls",
          "model_name": "HBoxModel",
          "model_module_version": "1.5.0",
          "state": {
            "_dom_classes": [],
            "_model_module": "@jupyter-widgets/controls",
            "_model_module_version": "1.5.0",
            "_model_name": "HBoxModel",
            "_view_count": null,
            "_view_module": "@jupyter-widgets/controls",
            "_view_module_version": "1.5.0",
            "_view_name": "HBoxView",
            "box_style": "",
            "children": [
              "IPY_MODEL_6faafa914d7c4626a338f50588a13649",
              "IPY_MODEL_f7b38500d1644bc6b9cc4d6a3520670a",
              "IPY_MODEL_2ff98a7ed0c947f4a1800b736707ad61"
            ],
            "layout": "IPY_MODEL_0ebbe670f3a84addb51ab97acd8d7f08"
          }
        },
        "6faafa914d7c4626a338f50588a13649": {
          "model_module": "@jupyter-widgets/controls",
          "model_name": "HTMLModel",
          "model_module_version": "1.5.0",
          "state": {
            "_dom_classes": [],
            "_model_module": "@jupyter-widgets/controls",
            "_model_module_version": "1.5.0",
            "_model_name": "HTMLModel",
            "_view_count": null,
            "_view_module": "@jupyter-widgets/controls",
            "_view_module_version": "1.5.0",
            "_view_name": "HTMLView",
            "description": "",
            "description_tooltip": null,
            "layout": "IPY_MODEL_f5b05f02772f484990605d0a3e34bf29",
            "placeholder": "​",
            "style": "IPY_MODEL_e4de67eff132492281b8210d32a7fa81",
            "value": ""
          }
        },
        "f7b38500d1644bc6b9cc4d6a3520670a": {
          "model_module": "@jupyter-widgets/controls",
          "model_name": "FloatProgressModel",
          "model_module_version": "1.5.0",
          "state": {
            "_dom_classes": [],
            "_model_module": "@jupyter-widgets/controls",
            "_model_module_version": "1.5.0",
            "_model_name": "FloatProgressModel",
            "_view_count": null,
            "_view_module": "@jupyter-widgets/controls",
            "_view_module_version": "1.5.0",
            "_view_name": "ProgressView",
            "bar_style": "success",
            "description": "",
            "description_tooltip": null,
            "layout": "IPY_MODEL_bdb088f2324f459aab956abaaa990c41",
            "max": 63303144,
            "min": 0,
            "orientation": "horizontal",
            "style": "IPY_MODEL_e559f02847fe4707b0f666ae5077d87c",
            "value": 63303144
          }
        },
        "2ff98a7ed0c947f4a1800b736707ad61": {
          "model_module": "@jupyter-widgets/controls",
          "model_name": "HTMLModel",
          "model_module_version": "1.5.0",
          "state": {
            "_dom_classes": [],
            "_model_module": "@jupyter-widgets/controls",
            "_model_module_version": "1.5.0",
            "_model_name": "HTMLModel",
            "_view_count": null,
            "_view_module": "@jupyter-widgets/controls",
            "_view_module_version": "1.5.0",
            "_view_name": "HTMLView",
            "description": "",
            "description_tooltip": null,
            "layout": "IPY_MODEL_fd39ee3e64374a87b731c667095d1aae",
            "placeholder": "​",
            "style": "IPY_MODEL_0a08df55030e424497df9bbf4083952a",
            "value": " 63303680/? [00:00&lt;00:00, 162772251.01it/s]"
          }
        },
        "0ebbe670f3a84addb51ab97acd8d7f08": {
          "model_module": "@jupyter-widgets/base",
          "model_name": "LayoutModel",
          "model_module_version": "1.2.0",
          "state": {
            "_model_module": "@jupyter-widgets/base",
            "_model_module_version": "1.2.0",
            "_model_name": "LayoutModel",
            "_view_count": null,
            "_view_module": "@jupyter-widgets/base",
            "_view_module_version": "1.2.0",
            "_view_name": "LayoutView",
            "align_content": null,
            "align_items": null,
            "align_self": null,
            "border": null,
            "bottom": null,
            "display": null,
            "flex": null,
            "flex_flow": null,
            "grid_area": null,
            "grid_auto_columns": null,
            "grid_auto_flow": null,
            "grid_auto_rows": null,
            "grid_column": null,
            "grid_gap": null,
            "grid_row": null,
            "grid_template_areas": null,
            "grid_template_columns": null,
            "grid_template_rows": null,
            "height": null,
            "justify_content": null,
            "justify_items": null,
            "left": null,
            "margin": null,
            "max_height": null,
            "max_width": null,
            "min_height": null,
            "min_width": null,
            "object_fit": null,
            "object_position": null,
            "order": null,
            "overflow": null,
            "overflow_x": null,
            "overflow_y": null,
            "padding": null,
            "right": null,
            "top": null,
            "visibility": null,
            "width": null
          }
        },
        "f5b05f02772f484990605d0a3e34bf29": {
          "model_module": "@jupyter-widgets/base",
          "model_name": "LayoutModel",
          "model_module_version": "1.2.0",
          "state": {
            "_model_module": "@jupyter-widgets/base",
            "_model_module_version": "1.2.0",
            "_model_name": "LayoutModel",
            "_view_count": null,
            "_view_module": "@jupyter-widgets/base",
            "_view_module_version": "1.2.0",
            "_view_name": "LayoutView",
            "align_content": null,
            "align_items": null,
            "align_self": null,
            "border": null,
            "bottom": null,
            "display": null,
            "flex": null,
            "flex_flow": null,
            "grid_area": null,
            "grid_auto_columns": null,
            "grid_auto_flow": null,
            "grid_auto_rows": null,
            "grid_column": null,
            "grid_gap": null,
            "grid_row": null,
            "grid_template_areas": null,
            "grid_template_columns": null,
            "grid_template_rows": null,
            "height": null,
            "justify_content": null,
            "justify_items": null,
            "left": null,
            "margin": null,
            "max_height": null,
            "max_width": null,
            "min_height": null,
            "min_width": null,
            "object_fit": null,
            "object_position": null,
            "order": null,
            "overflow": null,
            "overflow_x": null,
            "overflow_y": null,
            "padding": null,
            "right": null,
            "top": null,
            "visibility": null,
            "width": null
          }
        },
        "e4de67eff132492281b8210d32a7fa81": {
          "model_module": "@jupyter-widgets/controls",
          "model_name": "DescriptionStyleModel",
          "model_module_version": "1.5.0",
          "state": {
            "_model_module": "@jupyter-widgets/controls",
            "_model_module_version": "1.5.0",
            "_model_name": "DescriptionStyleModel",
            "_view_count": null,
            "_view_module": "@jupyter-widgets/base",
            "_view_module_version": "1.2.0",
            "_view_name": "StyleView",
            "description_width": ""
          }
        },
        "bdb088f2324f459aab956abaaa990c41": {
          "model_module": "@jupyter-widgets/base",
          "model_name": "LayoutModel",
          "model_module_version": "1.2.0",
          "state": {
            "_model_module": "@jupyter-widgets/base",
            "_model_module_version": "1.2.0",
            "_model_name": "LayoutModel",
            "_view_count": null,
            "_view_module": "@jupyter-widgets/base",
            "_view_module_version": "1.2.0",
            "_view_name": "LayoutView",
            "align_content": null,
            "align_items": null,
            "align_self": null,
            "border": null,
            "bottom": null,
            "display": null,
            "flex": null,
            "flex_flow": null,
            "grid_area": null,
            "grid_auto_columns": null,
            "grid_auto_flow": null,
            "grid_auto_rows": null,
            "grid_column": null,
            "grid_gap": null,
            "grid_row": null,
            "grid_template_areas": null,
            "grid_template_columns": null,
            "grid_template_rows": null,
            "height": null,
            "justify_content": null,
            "justify_items": null,
            "left": null,
            "margin": null,
            "max_height": null,
            "max_width": null,
            "min_height": null,
            "min_width": null,
            "object_fit": null,
            "object_position": null,
            "order": null,
            "overflow": null,
            "overflow_x": null,
            "overflow_y": null,
            "padding": null,
            "right": null,
            "top": null,
            "visibility": null,
            "width": null
          }
        },
        "e559f02847fe4707b0f666ae5077d87c": {
          "model_module": "@jupyter-widgets/controls",
          "model_name": "ProgressStyleModel",
          "model_module_version": "1.5.0",
          "state": {
            "_model_module": "@jupyter-widgets/controls",
            "_model_module_version": "1.5.0",
            "_model_name": "ProgressStyleModel",
            "_view_count": null,
            "_view_module": "@jupyter-widgets/base",
            "_view_module_version": "1.2.0",
            "_view_name": "StyleView",
            "bar_color": null,
            "description_width": ""
          }
        },
        "fd39ee3e64374a87b731c667095d1aae": {
          "model_module": "@jupyter-widgets/base",
          "model_name": "LayoutModel",
          "model_module_version": "1.2.0",
          "state": {
            "_model_module": "@jupyter-widgets/base",
            "_model_module_version": "1.2.0",
            "_model_name": "LayoutModel",
            "_view_count": null,
            "_view_module": "@jupyter-widgets/base",
            "_view_module_version": "1.2.0",
            "_view_name": "LayoutView",
            "align_content": null,
            "align_items": null,
            "align_self": null,
            "border": null,
            "bottom": null,
            "display": null,
            "flex": null,
            "flex_flow": null,
            "grid_area": null,
            "grid_auto_columns": null,
            "grid_auto_flow": null,
            "grid_auto_rows": null,
            "grid_column": null,
            "grid_gap": null,
            "grid_row": null,
            "grid_template_areas": null,
            "grid_template_columns": null,
            "grid_template_rows": null,
            "height": null,
            "justify_content": null,
            "justify_items": null,
            "left": null,
            "margin": null,
            "max_height": null,
            "max_width": null,
            "min_height": null,
            "min_width": null,
            "object_fit": null,
            "object_position": null,
            "order": null,
            "overflow": null,
            "overflow_x": null,
            "overflow_y": null,
            "padding": null,
            "right": null,
            "top": null,
            "visibility": null,
            "width": null
          }
        },
        "0a08df55030e424497df9bbf4083952a": {
          "model_module": "@jupyter-widgets/controls",
          "model_name": "DescriptionStyleModel",
          "model_module_version": "1.5.0",
          "state": {
            "_model_module": "@jupyter-widgets/controls",
            "_model_module_version": "1.5.0",
            "_model_name": "DescriptionStyleModel",
            "_view_count": null,
            "_view_module": "@jupyter-widgets/base",
            "_view_module_version": "1.2.0",
            "_view_name": "StyleView",
            "description_width": ""
          }
        }
      }
    }
  },
  "nbformat": 4,
  "nbformat_minor": 0
}